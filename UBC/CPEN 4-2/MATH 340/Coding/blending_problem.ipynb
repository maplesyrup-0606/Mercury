{
 "cells": [
  {
   "cell_type": "code",
   "execution_count": 2,
   "metadata": {},
   "outputs": [],
   "source": [
    "import pulp\n",
    "from pulp import *"
   ]
  },
  {
   "cell_type": "code",
   "execution_count": 3,
   "metadata": {},
   "outputs": [],
   "source": [
    "ing = ['CHICKEN','BEEF','MUTTON','RICE','WHEAT','GEL']\n",
    "\n",
    "costs = {'CHICKEN':0.013, 'BEEF':0.008, 'MUTTON':0.010, 'RICE':0.002, 'WHEAT':0.005, 'GEL':0.001}\n",
    "\n",
    "protein = {'CHICKEN':0.1, 'BEEF':0.2, 'MUTTON':0.15, 'RICE':0.0, 'WHEAT':0.4, 'GEL':0.0}\n",
    "fat = {'CHICKEN':0.08, 'BEEF':0.1, 'MUTTON':0.11, 'RICE':0.01, 'WHEAT':0.01, 'GEL':0.0}\n",
    "fibre = {'CHICKEN':0.001, 'BEEF':0.005, 'MUTTON':0.003, 'RICE':0.1, 'WHEAT':0.15, 'GEL':0.0}\n",
    "salt = {'CHICKEN':0.002, 'BEEF':0.005, 'MUTTON':0.007, 'RICE':0.002, 'WHEAT':0.008, 'GEL':0.0}"
   ]
  },
  {
   "cell_type": "code",
   "execution_count": 5,
   "metadata": {},
   "outputs": [
    {
     "data": {
      "text/plain": [
       "{'CHICKEN': Ingr_CHICKEN,\n",
       " 'BEEF': Ingr_BEEF,\n",
       " 'MUTTON': Ingr_MUTTON,\n",
       " 'RICE': Ingr_RICE,\n",
       " 'WHEAT': Ingr_WHEAT,\n",
       " 'GEL': Ingr_GEL}"
      ]
     },
     "execution_count": 5,
     "metadata": {},
     "output_type": "execute_result"
    }
   ],
   "source": [
    "prob = LpProblem(\"SomeProblem\",LpMinimize)\n",
    "ingredient_variables = LpVariable.dicts(\"Ingr\",ing,0)\n",
    "ingredient_variables"
   ]
  },
  {
   "cell_type": "code",
   "execution_count": 6,
   "metadata": {},
   "outputs": [
    {
     "data": {
      "text/plain": [
       "SomeProblem:\n",
       "MINIMIZE\n",
       "0.008*Ingr_BEEF + 0.013*Ingr_CHICKEN + 0.001*Ingr_GEL + 0.01*Ingr_MUTTON + 0.002*Ingr_RICE + 0.005*Ingr_WHEAT + 0.0\n",
       "VARIABLES\n",
       "Ingr_BEEF Continuous\n",
       "Ingr_CHICKEN Continuous\n",
       "Ingr_GEL Continuous\n",
       "Ingr_MUTTON Continuous\n",
       "Ingr_RICE Continuous\n",
       "Ingr_WHEAT Continuous"
      ]
     },
     "execution_count": 6,
     "metadata": {},
     "output_type": "execute_result"
    }
   ],
   "source": [
    "prob += lpSum([costs[i] * ingredient_variables[i] for i in ing])\n",
    "prob"
   ]
  },
  {
   "cell_type": "code",
   "execution_count": 8,
   "metadata": {},
   "outputs": [
    {
     "data": {
      "text/plain": [
       "SomeProblem:\n",
       "MINIMIZE\n",
       "0.008*Ingr_BEEF + 0.013*Ingr_CHICKEN + 0.001*Ingr_GEL + 0.01*Ingr_MUTTON + 0.002*Ingr_RICE + 0.005*Ingr_WHEAT + 0.0\n",
       "SUBJECT TO\n",
       "_C1: Ingr_BEEF + Ingr_CHICKEN + Ingr_GEL + Ingr_MUTTON + Ingr_RICE\n",
       " + Ingr_WHEAT = 100\n",
       "\n",
       "_C2: 0.2 Ingr_BEEF + 0.1 Ingr_CHICKEN + 0.15 Ingr_MUTTON + 0.4 Ingr_WHEAT >= 8\n",
       "\n",
       "_C3: 0.1 Ingr_BEEF + 0.08 Ingr_CHICKEN + 0.11 Ingr_MUTTON + 0.01 Ingr_RICE\n",
       " + 0.01 Ingr_WHEAT >= 6\n",
       "\n",
       "_C4: 0.005 Ingr_BEEF + 0.001 Ingr_CHICKEN + 0.003 Ingr_MUTTON + 0.1 Ingr_RICE\n",
       " + 0.15 Ingr_WHEAT <= 2\n",
       "\n",
       "_C5: 0.005 Ingr_BEEF + 0.002 Ingr_CHICKEN + 0.007 Ingr_MUTTON\n",
       " + 0.002 Ingr_RICE + 0.008 Ingr_WHEAT <= 0.4\n",
       "\n",
       "_C6: Ingr_BEEF + Ingr_CHICKEN + Ingr_GEL + Ingr_MUTTON + Ingr_RICE\n",
       " + Ingr_WHEAT = 100\n",
       "\n",
       "_C7: 0.2 Ingr_BEEF + 0.1 Ingr_CHICKEN + 0.15 Ingr_MUTTON + 0.4 Ingr_WHEAT >= 8\n",
       "\n",
       "_C8: 0.1 Ingr_BEEF + 0.08 Ingr_CHICKEN + 0.11 Ingr_MUTTON + 0.01 Ingr_RICE\n",
       " + 0.01 Ingr_WHEAT >= 6\n",
       "\n",
       "_C9: 0.005 Ingr_BEEF + 0.001 Ingr_CHICKEN + 0.003 Ingr_MUTTON + 0.1 Ingr_RICE\n",
       " + 0.15 Ingr_WHEAT <= 2\n",
       "\n",
       "_C10: 0.005 Ingr_BEEF + 0.002 Ingr_CHICKEN + 0.007 Ingr_MUTTON\n",
       " + 0.002 Ingr_RICE + 0.008 Ingr_WHEAT <= 0.4\n",
       "\n",
       "VARIABLES\n",
       "Ingr_BEEF Continuous\n",
       "Ingr_CHICKEN Continuous\n",
       "Ingr_GEL Continuous\n",
       "Ingr_MUTTON Continuous\n",
       "Ingr_RICE Continuous\n",
       "Ingr_WHEAT Continuous"
      ]
     },
     "execution_count": 8,
     "metadata": {},
     "output_type": "execute_result"
    }
   ],
   "source": [
    "prob += lpSum(ingredient_variables[i] for i in ing) == 100\n",
    "prob += lpSum(protein[i] * ingredient_variables[i] for i in ing) >= 8\n",
    "prob += lpSum(fat[i] * ingredient_variables[i] for i in ing) >= 6\n",
    "prob += lpSum(fibre[i] * ingredient_variables[i] for i in ing) <= 2\n",
    "prob += lpSum(salt[i] * ingredient_variables[i] for i in ing) <= 0.4\n",
    "\n",
    "prob"
   ]
  },
  {
   "cell_type": "code",
   "execution_count": 9,
   "metadata": {},
   "outputs": [
    {
     "name": "stdout",
     "output_type": "stream",
     "text": [
      "Welcome to the CBC MILP Solver \n",
      "Version: 2.10.3 \n",
      "Build Date: Dec 15 2019 \n",
      "\n",
      "command line - /Users/mercurymcindoe/Documents/Mercury/UBC/CPEN 4-2/MATH 340/Coding/.venv/lib/python3.13/site-packages/pulp/solverdir/cbc/osx/64/cbc /var/folders/py/b14h3jpn1036ckyvg60q2fp40000gn/T/c9c350310cb5493ab512748dc7f39a2b-pulp.mps -timeMode elapsed -branch -printingOptions all -solution /var/folders/py/b14h3jpn1036ckyvg60q2fp40000gn/T/c9c350310cb5493ab512748dc7f39a2b-pulp.sol (default strategy 1)\n",
      "At line 2 NAME          MODEL\n",
      "At line 3 ROWS\n",
      "At line 15 COLUMNS\n",
      "At line 72 RHS\n",
      "At line 83 BOUNDS\n",
      "At line 84 ENDATA\n",
      "Problem MODEL has 10 rows, 6 columns and 50 elements\n",
      "Coin0008I MODEL read with 0 errors\n",
      "Option for timeMode changed from cpu to elapsed\n",
      "Presolve 5 (-5) rows, 6 (0) columns and 25 (-25) elements\n",
      "0  Obj 0 Primal inf 329.55741 (3)\n",
      "2  Obj 0.52\n",
      "Optimal - objective value 0.52\n",
      "After Postsolve, objective 0.52, infeasibilities - dual 0 (0), primal 0 (0)\n",
      "Optimal objective 0.52 - 2 iterations time 0.002, Presolve 0.00\n",
      "Option for printingOptions changed from normal to all\n",
      "Total time (CPU seconds):       0.00   (Wallclock seconds):       0.00\n",
      "\n",
      "Status: Optimal\n"
     ]
    }
   ],
   "source": [
    "prob.solve()\n",
    "print(\"Status:\",LpStatus[prob.status])"
   ]
  },
  {
   "cell_type": "code",
   "execution_count": 10,
   "metadata": {},
   "outputs": [
    {
     "name": "stdout",
     "output_type": "stream",
     "text": [
      "Ingr_BEEF = 60.0\n",
      "Ingr_CHICKEN = 0.0\n",
      "Ingr_GEL = 40.0\n",
      "Ingr_MUTTON = 0.0\n",
      "Ingr_RICE = 0.0\n",
      "Ingr_WHEAT = 0.0\n"
     ]
    }
   ],
   "source": [
    "for a in prob.variables() :\n",
    "    print(a.name, \"=\", a.varValue)"
   ]
  },
  {
   "cell_type": "code",
   "execution_count": 11,
   "metadata": {},
   "outputs": [
    {
     "name": "stdout",
     "output_type": "stream",
     "text": [
      "Total cost =  0.52\n"
     ]
    }
   ],
   "source": [
    "print(\"Total cost = \", value(prob.objective))"
   ]
  },
  {
   "cell_type": "code",
   "execution_count": null,
   "metadata": {},
   "outputs": [],
   "source": []
  }
 ],
 "metadata": {
  "kernelspec": {
   "display_name": ".venv",
   "language": "python",
   "name": "python3"
  },
  "language_info": {
   "codemirror_mode": {
    "name": "ipython",
    "version": 3
   },
   "file_extension": ".py",
   "mimetype": "text/x-python",
   "name": "python",
   "nbconvert_exporter": "python",
   "pygments_lexer": "ipython3",
   "version": "3.13.0"
  }
 },
 "nbformat": 4,
 "nbformat_minor": 2
}
