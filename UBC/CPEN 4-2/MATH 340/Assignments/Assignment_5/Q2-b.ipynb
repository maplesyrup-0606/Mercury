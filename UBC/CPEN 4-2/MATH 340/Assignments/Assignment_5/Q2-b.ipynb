{
 "cells": [
  {
   "cell_type": "code",
   "execution_count": 6,
   "metadata": {},
   "outputs": [],
   "source": [
    "import pulp"
   ]
  },
  {
   "cell_type": "code",
   "execution_count": 7,
   "metadata": {},
   "outputs": [],
   "source": [
    "lp_problem = pulp.LpProblem(\"q2-b\", pulp.LpMinimize)\n",
    "\n",
    "y = [pulp.LpVariable(f\"y{i}\", lowBound=0) for i in range(1,6)]\n",
    "\n",
    "lp_problem += 40*y[0] + 30*y[1] + 20*y[2] + 10*y[3] + 10*y[4]\n",
    "\n",
    "lp_problem += y[0] + 2*y[2] + y[3] >= 300 \n",
    "lp_problem += y[0] + y[1] + 2*y[4] >= 400\n",
    "lp_problem += 2*y[1] + 2*y[3] + y[4] >= 1000"
   ]
  },
  {
   "cell_type": "code",
   "execution_count": 8,
   "metadata": {},
   "outputs": [
    {
     "name": "stdout",
     "output_type": "stream",
     "text": [
      "Welcome to the CBC MILP Solver \n",
      "Version: 2.10.3 \n",
      "Build Date: Dec 15 2019 \n",
      "\n",
      "command line - /Users/mercurymcindoe/Documents/Mercury/UBC/CPEN 4-2/MATH 340/Assignments/.venv/lib/python3.13/site-packages/pulp/solverdir/cbc/osx/64/cbc /var/folders/py/b14h3jpn1036ckyvg60q2fp40000gn/T/8721e82f099140259df7d76867ba4604-pulp.mps -timeMode elapsed -branch -printingOptions all -solution /var/folders/py/b14h3jpn1036ckyvg60q2fp40000gn/T/8721e82f099140259df7d76867ba4604-pulp.sol (default strategy 1)\n",
      "At line 2 NAME          MODEL\n",
      "At line 3 ROWS\n",
      "At line 8 COLUMNS\n",
      "At line 23 RHS\n",
      "At line 27 BOUNDS\n",
      "At line 28 ENDATA\n",
      "Problem MODEL has 3 rows, 5 columns and 9 elements\n",
      "Coin0008I MODEL read with 0 errors\n",
      "Option for timeMode changed from cpu to elapsed\n",
      "Presolve 3 (0) rows, 5 (0) columns and 9 (0) elements\n",
      "0  Obj 0 Primal inf 1700 (3)\n",
      "2  Obj 6000\n",
      "Optimal - objective value 6000\n",
      "Optimal objective 6000 - 2 iterations time 0.002\n",
      "Option for printingOptions changed from normal to all\n",
      "Total time (CPU seconds):       0.00   (Wallclock seconds):       0.01\n",
      "\n"
     ]
    },
    {
     "data": {
      "text/plain": [
       "'Optimal'"
      ]
     },
     "execution_count": 8,
     "metadata": {},
     "output_type": "execute_result"
    }
   ],
   "source": [
    "lp_problem.solve()\n",
    "pulp.LpStatus[lp_problem.status]"
   ]
  },
  {
   "cell_type": "code",
   "execution_count": 9,
   "metadata": {},
   "outputs": [
    {
     "name": "stdout",
     "output_type": "stream",
     "text": [
      "y1 =  0.0\n",
      "y2 =  0.0\n",
      "y3 =  0.0\n",
      "y4 =  400.0\n",
      "y5 =  200.0\n",
      "Optimal Solution:  6000.0\n"
     ]
    }
   ],
   "source": [
    "for idx,var in enumerate(y) :\n",
    "    print(f\"y{idx + 1} = \",pulp.value(var))\n",
    "\n",
    "print(\"Optimal Solution: \",pulp.value(lp_problem.objective))"
   ]
  }
 ],
 "metadata": {
  "kernelspec": {
   "display_name": ".venv",
   "language": "python",
   "name": "python3"
  },
  "language_info": {
   "codemirror_mode": {
    "name": "ipython",
    "version": 3
   },
   "file_extension": ".py",
   "mimetype": "text/x-python",
   "name": "python",
   "nbconvert_exporter": "python",
   "pygments_lexer": "ipython3",
   "version": "3.13.1"
  }
 },
 "nbformat": 4,
 "nbformat_minor": 2
}
