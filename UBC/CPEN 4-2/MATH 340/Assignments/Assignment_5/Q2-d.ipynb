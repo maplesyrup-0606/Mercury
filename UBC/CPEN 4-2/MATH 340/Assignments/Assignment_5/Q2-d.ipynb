{
 "cells": [
  {
   "cell_type": "code",
   "execution_count": 6,
   "metadata": {},
   "outputs": [],
   "source": [
    "import pulp"
   ]
  },
  {
   "cell_type": "code",
   "execution_count": 7,
   "metadata": {},
   "outputs": [],
   "source": [
    "lp_problem = pulp.LpProblem(\"q2-d\", pulp.LpMaximize)\n",
    "\n",
    "x = [pulp.LpVariable(f\"x{i}\", lowBound=0) for i in range(1,4)]\n",
    "\n",
    "lp_problem += 300*x[0] + 400*x[1] + 1000*x[2]\n",
    "\n",
    "lp_problem += x[0] + x[1] <= 40\n",
    "lp_problem += x[1] + 2*x[2] <= 30 \n",
    "lp_problem += x[0] <= 10\n",
    "lp_problem += x[0] + 2*x[2] <= 10\n",
    "lp_problem += 2 * x[1] + x[2] <= 10"
   ]
  },
  {
   "cell_type": "code",
   "execution_count": 8,
   "metadata": {},
   "outputs": [
    {
     "name": "stdout",
     "output_type": "stream",
     "text": [
      "Welcome to the CBC MILP Solver \n",
      "Version: 2.10.3 \n",
      "Build Date: Dec 15 2019 \n",
      "\n",
      "command line - /Users/mercurymcindoe/Documents/Mercury/UBC/CPEN 4-2/MATH 340/Assignments/.venv/lib/python3.13/site-packages/pulp/solverdir/cbc/osx/64/cbc /var/folders/py/b14h3jpn1036ckyvg60q2fp40000gn/T/42f9d88a9a294807be34ffb77e679fe1-pulp.mps -max -timeMode elapsed -branch -printingOptions all -solution /var/folders/py/b14h3jpn1036ckyvg60q2fp40000gn/T/42f9d88a9a294807be34ffb77e679fe1-pulp.sol (default strategy 1)\n",
      "At line 2 NAME          MODEL\n",
      "At line 3 ROWS\n",
      "At line 10 COLUMNS\n",
      "At line 23 RHS\n",
      "At line 29 BOUNDS\n",
      "At line 30 ENDATA\n",
      "Problem MODEL has 5 rows, 3 columns and 9 elements\n",
      "Coin0008I MODEL read with 0 errors\n",
      "Option for timeMode changed from cpu to elapsed\n",
      "Presolve 4 (-1) rows, 3 (0) columns and 8 (-1) elements\n",
      "0  Obj -0 Dual inf 1700 (3)\n",
      "2  Obj 6000\n",
      "Optimal - objective value 6000\n",
      "After Postsolve, objective 6000, infeasibilities - dual 0 (0), primal 0 (0)\n",
      "Optimal objective 6000 - 2 iterations time 0.002, Presolve 0.00\n",
      "Option for printingOptions changed from normal to all\n",
      "Total time (CPU seconds):       0.00   (Wallclock seconds):       0.01\n",
      "\n"
     ]
    },
    {
     "data": {
      "text/plain": [
       "'Optimal'"
      ]
     },
     "execution_count": 8,
     "metadata": {},
     "output_type": "execute_result"
    }
   ],
   "source": [
    "lp_problem.solve()\n",
    "pulp.LpStatus[lp_problem.status]"
   ]
  },
  {
   "cell_type": "code",
   "execution_count": 9,
   "metadata": {},
   "outputs": [
    {
     "name": "stdout",
     "output_type": "stream",
     "text": [
      "x1 =  0.0\n",
      "x2 =  2.5\n",
      "x3 =  5.0\n",
      "Optimal Solution:  6000.0\n"
     ]
    }
   ],
   "source": [
    "for idx, var in enumerate(x) :\n",
    "    print(f\"x{idx + 1} = \",pulp.value(var))\n",
    "\n",
    "print(\"Optimal Solution: \",pulp.value(lp_problem.objective))"
   ]
  }
 ],
 "metadata": {
  "kernelspec": {
   "display_name": ".venv",
   "language": "python",
   "name": "python3"
  },
  "language_info": {
   "codemirror_mode": {
    "name": "ipython",
    "version": 3
   },
   "file_extension": ".py",
   "mimetype": "text/x-python",
   "name": "python",
   "nbconvert_exporter": "python",
   "pygments_lexer": "ipython3",
   "version": "3.13.1"
  }
 },
 "nbformat": 4,
 "nbformat_minor": 2
}
