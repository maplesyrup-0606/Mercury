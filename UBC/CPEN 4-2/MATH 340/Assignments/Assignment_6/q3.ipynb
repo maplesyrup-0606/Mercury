{
 "cells": [
  {
   "cell_type": "code",
   "execution_count": 2,
   "metadata": {},
   "outputs": [],
   "source": [
    "import pulp"
   ]
  },
  {
   "cell_type": "code",
   "execution_count": 5,
   "metadata": {},
   "outputs": [
    {
     "name": "stdout",
     "output_type": "stream",
     "text": [
      "Welcome to the CBC MILP Solver \n",
      "Version: 2.10.3 \n",
      "Build Date: Dec 15 2019 \n",
      "\n",
      "command line - /Users/mercurymcindoe/Documents/Mercury/UBC/CPEN 4-2/MATH 340/Assignments/.venv/lib/python3.13/site-packages/pulp/solverdir/cbc/osx/64/cbc /var/folders/py/b14h3jpn1036ckyvg60q2fp40000gn/T/f75a93fbd1ec416f8b7acd77c669738b-pulp.mps -timeMode elapsed -branch -printingOptions all -solution /var/folders/py/b14h3jpn1036ckyvg60q2fp40000gn/T/f75a93fbd1ec416f8b7acd77c669738b-pulp.sol (default strategy 1)\n",
      "At line 2 NAME          MODEL\n",
      "At line 3 ROWS\n",
      "At line 8 COLUMNS\n",
      "At line 20 RHS\n",
      "At line 24 BOUNDS\n",
      "At line 25 ENDATA\n",
      "Problem MODEL has 3 rows, 3 columns and 8 elements\n",
      "Coin0008I MODEL read with 0 errors\n",
      "Option for timeMode changed from cpu to elapsed\n",
      "Presolve 3 (0) rows, 3 (0) columns and 8 (0) elements\n",
      "0  Obj 0 Primal inf 12.166666 (3)\n",
      "3  Obj 1100\n",
      "Optimal - objective value 1100\n",
      "Optimal objective 1100 - 3 iterations time 0.002\n",
      "Option for printingOptions changed from normal to all\n",
      "Total time (CPU seconds):       0.00   (Wallclock seconds):       0.00\n",
      "\n",
      "3\n",
      "y1 =  5.0\n",
      "y2 =  0.0\n",
      "y3 =  0.0\n",
      "Optimal Solution:  1100.0\n"
     ]
    }
   ],
   "source": [
    "lp_problem = pulp.LpProblem(\"q3\", pulp.LpMinimize)\n",
    "\n",
    "y = [pulp.LpVariable(f\"y{i}\",lowBound=0) for i in range(1,4)]\n",
    "\n",
    "cost = {\n",
    "    0 : 220,\n",
    "    1: 385,\n",
    "    2: 160\n",
    "}\n",
    "\n",
    "lp_problem += 220*y[0] + 385*y[1] + 160*y[2]\n",
    "\n",
    "lp_problem += 2*y[0] + 4*y[1] + y[2] >= 10\n",
    "lp_problem += 3*y[0] + 2*y[1] >= 14\n",
    "lp_problem += 4*y[0] - y[1] + 4*y[2] >= 20\n",
    "\n",
    "lp_problem.solve()\n",
    "\n",
    "print(len(y))\n",
    "\n",
    "for i in range(3) :\n",
    "    print(f\"y{i + 1} = \",pulp.value(y[i]))\n",
    "\n",
    "print(\"Optimal Solution: \",pulp.value(lp_problem.objective))"
   ]
  }
 ],
 "metadata": {
  "kernelspec": {
   "display_name": ".venv",
   "language": "python",
   "name": "python3"
  },
  "language_info": {
   "codemirror_mode": {
    "name": "ipython",
    "version": 3
   },
   "file_extension": ".py",
   "mimetype": "text/x-python",
   "name": "python",
   "nbconvert_exporter": "python",
   "pygments_lexer": "ipython3",
   "version": "3.13.1"
  }
 },
 "nbformat": 4,
 "nbformat_minor": 2
}
