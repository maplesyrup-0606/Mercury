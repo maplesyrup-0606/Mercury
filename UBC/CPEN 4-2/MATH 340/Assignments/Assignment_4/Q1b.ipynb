{
 "cells": [
  {
   "cell_type": "code",
   "execution_count": 36,
   "metadata": {},
   "outputs": [
    {
     "name": "stdout",
     "output_type": "stream",
     "text": [
      "Available Solvers: ['GLPK_CMD', 'PYGLPK', 'CPLEX_CMD', 'CPLEX_PY', 'GUROBI', 'GUROBI_CMD', 'MOSEK', 'XPRESS', 'XPRESS', 'XPRESS_PY', 'PULP_CBC_CMD', 'COIN_CMD', 'COINMP_DLL', 'CHOCO_CMD', 'MIPCL_CMD', 'SCIP_CMD', 'FSCIP_CMD', 'SCIP_PY', 'HiGHS', 'HiGHS_CMD', 'COPT', 'COPT_DLL', 'COPT_CMD']\n",
      "CBC Solver Path: cbc\n"
     ]
    }
   ],
   "source": [
    "import pulp\n",
    "\n",
    "# List available solvers\n",
    "print(\"Available Solvers:\", pulp.listSolvers())\n",
    "\n",
    "# Check if CBC is installed\n",
    "solver = pulp.getSolver('COIN_CMD')\n",
    "print(\"CBC Solver Path:\", solver.path if solver else \"CBC Solver Not Found\")"
   ]
  },
  {
   "cell_type": "code",
   "execution_count": 37,
   "metadata": {},
   "outputs": [],
   "source": [
    "Lp_prob = pulp.LpProblem(\"Question1b\", pulp.LpMaximize)\n",
    "\n",
    "x1 = pulp.LpVariable('x1',lowBound=0)\n",
    "x2 = pulp.LpVariable('x2',lowBound=0)"
   ]
  },
  {
   "cell_type": "code",
   "execution_count": 38,
   "metadata": {},
   "outputs": [],
   "source": [
    "Lp_prob += 3*x1 + x2, \"Objective\"\n",
    "Lp_prob += x1 + x2 <= 1, \"Constraint 1\"\n",
    "Lp_prob += 2*x1 - x2 <= -1, \"Constraint 2\"\n",
    "Lp_prob += -3*x1 - 2*x2 <= -4, \"Constraint 3\""
   ]
  },
  {
   "cell_type": "code",
   "execution_count": null,
   "metadata": {},
   "outputs": [
    {
     "name": "stdout",
     "output_type": "stream",
     "text": [
      "Welcome to the CBC MILP Solver \n",
      "Version: 2.10.3 \n",
      "Build Date: Dec 15 2019 \n",
      "\n",
      "command line - /Users/mercurymcindoe/Documents/Mercury/UBC/CPEN 4-2/MATH 340/Assignments/.venv/lib/python3.13/site-packages/pulp/solverdir/cbc/osx/64/cbc /var/folders/py/b14h3jpn1036ckyvg60q2fp40000gn/T/4c6b4f992d8c489b8314983d6cace77b-pulp.mps -max -timeMode elapsed -branch -printingOptions all -solution /var/folders/py/b14h3jpn1036ckyvg60q2fp40000gn/T/4c6b4f992d8c489b8314983d6cace77b-pulp.sol (default strategy 1)\n",
      "At line 2 NAME          MODEL\n",
      "At line 3 ROWS\n",
      "At line 8 COLUMNS\n",
      "At line 17 RHS\n",
      "At line 21 BOUNDS\n",
      "At line 22 ENDATA\n",
      "Problem MODEL has 3 rows, 2 columns and 6 elements\n",
      "Coin0008I MODEL read with 0 errors\n",
      "Option for timeMode changed from cpu to elapsed\n",
      "Presolve determined that the problem was infeasible with tolerance of 1e-08\n",
      "Analysis indicates model infeasible or unbounded\n",
      "0  Obj -0 Primal inf 1.8333331 (2) Dual inf 3.9999998 (2)\n",
      "0  Obj -0 Primal inf 1.8333331 (2) Dual inf 1.1666667e+10 (2)\n",
      "2  Obj 1 Primal inf 0.66666657 (1)\n",
      "Primal infeasible - objective value 1\n",
      "PrimalInfeasible objective 1 - 2 iterations time 0.002\n",
      "\n",
      "Result - Linear relaxation infeasible\n",
      "\n",
      "Enumerated nodes:           0\n",
      "Total iterations:           0\n",
      "Time (CPU seconds):         0.00\n",
      "Time (Wallclock Seconds):   0.01\n",
      "\n",
      "Option for printingOptions changed from normal to all\n",
      "Total time (CPU seconds):       0.00   (Wallclock seconds):       0.01\n",
      "\n",
      "Solver Status: Infeasible\n",
      "No feasible solution found.\n"
     ]
    }
   ],
   "source": [
    "Lp_prob.solve()\n",
    "status = pulp.LpStatus[Lp_prob.status]\n",
    "print(f\"Solver Status: {status}\")\n",
    "\n",
    "if Lp_prob.status == 1:  \n",
    "    for var in Lp_prob.variables():\n",
    "        print(f\"{var.name} = {var.varValue}\")\n",
    "    print(f\"Objective Value = {pulp.value(Lp_prob.objective)}\")\n",
    "else:\n",
    "    print(\"No feasible solution found.\")\n"
   ]
  }
 ],
 "metadata": {
  "kernelspec": {
   "display_name": ".venv",
   "language": "python",
   "name": "python3"
  },
  "language_info": {
   "codemirror_mode": {
    "name": "ipython",
    "version": 3
   },
   "file_extension": ".py",
   "mimetype": "text/x-python",
   "name": "python",
   "nbconvert_exporter": "python",
   "pygments_lexer": "ipython3",
   "version": "3.13.1"
  }
 },
 "nbformat": 4,
 "nbformat_minor": 2
}
