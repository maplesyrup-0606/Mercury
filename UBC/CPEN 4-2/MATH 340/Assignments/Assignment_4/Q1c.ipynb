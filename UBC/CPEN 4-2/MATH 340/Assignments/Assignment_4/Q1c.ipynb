{
 "cells": [
  {
   "cell_type": "code",
   "execution_count": 4,
   "metadata": {},
   "outputs": [],
   "source": [
    "import pulp"
   ]
  },
  {
   "cell_type": "code",
   "execution_count": 5,
   "metadata": {},
   "outputs": [],
   "source": [
    "Lp_prob = pulp.LpProblem(\"Question1c\", pulp.LpMaximize)\n",
    "\n",
    "x1 = pulp.LpVariable('x1',lowBound=0)\n",
    "x2 = pulp.LpVariable('x2',lowBound=0)\n",
    "x3 = pulp.LpVariable('x3',lowBound=0)"
   ]
  },
  {
   "cell_type": "code",
   "execution_count": 6,
   "metadata": {},
   "outputs": [],
   "source": [
    "Lp_prob += 3 * x1 + 2 * x2 + 3 * x3 \n",
    "\n",
    "Lp_prob += 2 * x1 + x2 + x3 <= 2\n",
    "Lp_prob += 3 * x1 + 4 * x2 + 2 * x3 >= 8"
   ]
  },
  {
   "cell_type": "code",
   "execution_count": 8,
   "metadata": {},
   "outputs": [
    {
     "name": "stdout",
     "output_type": "stream",
     "text": [
      "Welcome to the CBC MILP Solver \n",
      "Version: 2.10.3 \n",
      "Build Date: Dec 15 2019 \n",
      "\n",
      "command line - /Users/mercurymcindoe/Documents/Mercury/UBC/CPEN 4-2/MATH 340/Assignments/.venv/lib/python3.13/site-packages/pulp/solverdir/cbc/osx/64/cbc /var/folders/py/b14h3jpn1036ckyvg60q2fp40000gn/T/0c39d7b93f864c9d95e04897a5a5f36c-pulp.mps -max -timeMode elapsed -branch -printingOptions all -solution /var/folders/py/b14h3jpn1036ckyvg60q2fp40000gn/T/0c39d7b93f864c9d95e04897a5a5f36c-pulp.sol (default strategy 1)\n",
      "At line 2 NAME          MODEL\n",
      "At line 3 ROWS\n",
      "At line 7 COLUMNS\n",
      "At line 17 RHS\n",
      "At line 20 BOUNDS\n",
      "At line 21 ENDATA\n",
      "Problem MODEL has 2 rows, 3 columns and 6 elements\n",
      "Coin0008I MODEL read with 0 errors\n",
      "Option for timeMode changed from cpu to elapsed\n",
      "Presolve 2 (0) rows, 3 (0) columns and 6 (0) elements\n",
      "0  Obj -0 Primal inf 1.9999999 (1) Dual inf 11 (3)\n",
      "0  Obj -0 Primal inf 1.9999999 (1) Dual inf 2.75e+10 (3)\n",
      "4  Obj 4\n",
      "Optimal - objective value 4\n",
      "Optimal objective 4 - 4 iterations time 0.002\n",
      "Option for printingOptions changed from normal to all\n",
      "Total time (CPU seconds):       0.00   (Wallclock seconds):       0.01\n",
      "\n",
      "4.0000000000060005\n",
      "x1 = 0.0\n",
      "x2 = 2.0\n",
      "x3 = 2.0001778e-12\n"
     ]
    }
   ],
   "source": [
    "Lp_prob.solve()\n",
    "print(pulp.value(Lp_prob.objective))\n",
    "\n",
    "for var in Lp_prob.variables():\n",
    "        print(f\"{var.name} = {var.varValue}\")"
   ]
  }
 ],
 "metadata": {
  "kernelspec": {
   "display_name": ".venv",
   "language": "python",
   "name": "python3"
  },
  "language_info": {
   "codemirror_mode": {
    "name": "ipython",
    "version": 3
   },
   "file_extension": ".py",
   "mimetype": "text/x-python",
   "name": "python",
   "nbconvert_exporter": "python",
   "pygments_lexer": "ipython3",
   "version": "3.13.1"
  }
 },
 "nbformat": 4,
 "nbformat_minor": 2
}
