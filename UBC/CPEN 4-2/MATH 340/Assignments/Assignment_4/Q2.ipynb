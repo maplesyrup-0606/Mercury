{
 "cells": [
  {
   "cell_type": "markdown",
   "metadata": {},
   "source": [
    "## Question 2"
   ]
  },
  {
   "cell_type": "code",
   "execution_count": 3,
   "metadata": {},
   "outputs": [],
   "source": [
    "import numpy as np\n",
    "import pulp"
   ]
  },
  {
   "cell_type": "code",
   "execution_count": 4,
   "metadata": {},
   "outputs": [
    {
     "name": "stdout",
     "output_type": "stream",
     "text": [
      "[0, 1, -2, 3, -4, 5, -6, 7, -8, 9]\n",
      "[-1, 0, 1, -2, 3, -4, 5, -6, 7, -8]\n",
      "[2, -1, 0, 1, -2, 3, -4, 5, -6, 7]\n",
      "[-3, 2, -1, 0, 1, -2, 3, -4, 5, -6]\n",
      "[4, -3, 2, -1, 0, 1, -2, 3, -4, 5]\n",
      "[-5, 4, -3, 2, -1, 0, 1, -2, 3, -4]\n",
      "[6, -5, 4, -3, 2, -1, 0, 1, -2, 3]\n",
      "[-7, 6, -5, 4, -3, 2, -1, 0, 1, -2]\n",
      "[8, -7, 6, -5, 4, -3, 2, -1, 0, 1]\n",
      "[-9, 8, -7, 6, -5, 4, -3, 2, -1, 0]\n",
      "[-1, 1, -1, 1, -1, 1, -1, 1, -1, 1]\n"
     ]
    }
   ],
   "source": [
    "m, n = 10, 10\n",
    "\n",
    "A = [ [(-1) ** (i + j) * (i - j) for j in range(n)] for i in range(m) ]\n",
    "\n",
    "\n",
    "b = [ (-1) ** i for i in range(m)]\n",
    "\n",
    "for i in range(m) :\n",
    "    b[i] = (-1)**(i+1)\n",
    "\n",
    "\n",
    "for row in A :\n",
    "    print(row)\n",
    "print(b)"
   ]
  },
  {
   "cell_type": "code",
   "execution_count": 5,
   "metadata": {},
   "outputs": [
    {
     "name": "stdout",
     "output_type": "stream",
     "text": [
      "Welcome to the CBC MILP Solver \n",
      "Version: 2.10.3 \n",
      "Build Date: Dec 15 2019 \n",
      "\n",
      "command line - /Users/mercurymcindoe/Documents/Mercury/UBC/CPEN 4-2/MATH 340/Assignments/.venv/lib/python3.13/site-packages/pulp/solverdir/cbc/osx/64/cbc /var/folders/py/b14h3jpn1036ckyvg60q2fp40000gn/T/83eb73bfd99544969ffb649b989da762-pulp.mps -timeMode elapsed -branch -printingOptions all -solution /var/folders/py/b14h3jpn1036ckyvg60q2fp40000gn/T/83eb73bfd99544969ffb649b989da762-pulp.sol (default strategy 1)\n",
      "At line 2 NAME          MODEL\n",
      "At line 3 ROWS\n",
      "At line 15 COLUMNS\n",
      "At line 107 RHS\n",
      "At line 118 BOUNDS\n",
      "At line 120 ENDATA\n",
      "Problem MODEL has 10 rows, 11 columns and 90 elements\n",
      "Coin0008I MODEL read with 0 errors\n",
      "Option for timeMode changed from cpu to elapsed\n",
      "Presolve 10 (0) rows, 10 (-1) columns and 90 (0) elements\n",
      "0  Obj 0 Primal inf 0.74562992 (5) Dual inf 9.2272281 (4)\n",
      "2  Obj 0\n",
      "Optimal - objective value 0\n",
      "After Postsolve, objective 0, infeasibilities - dual 0 (0), primal 0 (0)\n",
      "Optimal objective 0 - 2 iterations time 0.002, Presolve 0.00\n",
      "Option for printingOptions changed from normal to all\n",
      "Total time (CPU seconds):       0.00   (Wallclock seconds):       0.01\n",
      "\n",
      "x0: 0.0\n",
      "x1: 0.0\n",
      "x2: 0.0\n",
      "x3: 0.2\n",
      "x4: 0.0\n",
      "x5: 0.0\n",
      "x6: 0.0\n",
      "x7: 0.0\n",
      "x8: 0.2\n",
      "x9: 0.0\n",
      "Solver Status: Optimal\n",
      "__dummy = None\n",
      "x0 = 0.0\n",
      "x1 = 0.0\n",
      "x2 = 0.0\n",
      "x3 = 0.2\n",
      "x4 = 0.0\n",
      "x5 = 0.0\n",
      "x6 = 0.0\n",
      "x7 = 0.0\n",
      "x8 = 0.2\n",
      "x9 = 0.0\n",
      "Objective Value = None\n"
     ]
    },
    {
     "name": "stderr",
     "output_type": "stream",
     "text": [
      "/Users/mercurymcindoe/Documents/Mercury/UBC/CPEN 4-2/MATH 340/Assignments/.venv/lib/python3.13/site-packages/pulp/pulp.py:1298: UserWarning: Spaces are not permitted in the name. Converted to '_'\n",
      "  warnings.warn(\"Spaces are not permitted in the name. Converted to '_'\")\n"
     ]
    }
   ],
   "source": [
    "num_variables = len(A[0])\n",
    "\n",
    "lp_problem = pulp.LpProblem(\"Feasibility Check\", pulp.LpMinimize)\n",
    "\n",
    "x = [pulp.LpVariable(f\"x{i}\",lowBound=0) for i in range(num_variables)]\n",
    "\n",
    "lp_problem += 0\n",
    "\n",
    "for i in range(len(A)) :\n",
    "    lp_problem += (pulp.lpDot(A[i],x) <= b[i])\n",
    "\n",
    "lp_problem.solve()\n",
    "\n",
    "for var in x :\n",
    "    print(f\"{var.name}: {var.varValue}\")\n",
    "\n",
    "status = pulp.LpStatus[lp_problem.status]\n",
    "print(f\"Solver Status: {status}\")\n",
    "\n",
    "if lp_problem.status == 1:  \n",
    "    for var in lp_problem.variables():\n",
    "        print(f\"{var.name} = {var.varValue}\")\n",
    "    print(f\"Objective Value = {pulp.value(lp_problem.objective)}\")\n",
    "else:\n",
    "    print(\"No feasible solution found.\")"
   ]
  }
 ],
 "metadata": {
  "kernelspec": {
   "display_name": ".venv",
   "language": "python",
   "name": "python3"
  },
  "language_info": {
   "codemirror_mode": {
    "name": "ipython",
    "version": 3
   },
   "file_extension": ".py",
   "mimetype": "text/x-python",
   "name": "python",
   "nbconvert_exporter": "python",
   "pygments_lexer": "ipython3",
   "version": "3.13.1"
  }
 },
 "nbformat": 4,
 "nbformat_minor": 2
}
