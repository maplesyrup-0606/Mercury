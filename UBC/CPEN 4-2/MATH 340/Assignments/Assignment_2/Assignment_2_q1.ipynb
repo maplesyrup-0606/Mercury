{
  "cells": [
    {
      "cell_type": "code",
      "execution_count": 19,
      "metadata": {},
      "outputs": [],
      "source": [
        "from pulp import *"
      ]
    },
    {
      "cell_type": "markdown",
      "metadata": {},
      "source": [
        "### Problem 1"
      ]
    },
    {
      "cell_type": "code",
      "execution_count": 20,
      "metadata": {},
      "outputs": [],
      "source": [
        "Lp_prob = LpProblem('Question1b', LpMaximize)\n",
        "x_b = LpVariable('x_b') # Bands\n",
        "x_c = LpVariable('x_c') # Coils"
      ]
    },
    {
      "cell_type": "code",
      "execution_count": 21,
      "metadata": {},
      "outputs": [],
      "source": [
        "# Objective function\n",
        "Lp_prob += 25 * x_b + 30 * x_c\n",
        "\n",
        "# Constraints\n",
        "Lp_prob += x_b <= 6000 \n",
        "Lp_prob += x_c <= 4000\n",
        "Lp_prob += (x_b  * (1 / 200)) + (x_c * (1 / 140)) <= 40\n",
        "Lp_prob += x_b >= 0\n",
        "Lp_prob += x_c >= 0"
      ]
    },
    {
      "cell_type": "code",
      "execution_count": 22,
      "metadata": {},
      "outputs": [
        {
          "name": "stdout",
          "output_type": "stream",
          "text": [
            "Question1b:\n",
            "MAXIMIZE\n",
            "25*x_b + 30*x_c + 0\n",
            "SUBJECT TO\n",
            "_C1: x_b <= 6000\n",
            "\n",
            "_C2: x_c <= 4000\n",
            "\n",
            "_C3: 0.005 x_b + 0.00714285714286 x_c <= 40\n",
            "\n",
            "_C4: x_b >= 0\n",
            "\n",
            "_C5: x_c >= 0\n",
            "\n",
            "VARIABLES\n",
            "x_b free Continuous\n",
            "x_c free Continuous\n",
            "\n"
          ]
        }
      ],
      "source": [
        "print(Lp_prob)"
      ]
    },
    {
      "cell_type": "code",
      "execution_count": 23,
      "metadata": {},
      "outputs": [
        {
          "name": "stdout",
          "output_type": "stream",
          "text": [
            "Welcome to the CBC MILP Solver \n",
            "Version: 2.10.3 \n",
            "Build Date: Dec 15 2019 \n",
            "\n",
            "command line - /Users/mercurymcindoe/Documents/Mercury/UBC/CPEN 4-2/MATH 340/Assignments/.venv/lib/python3.13/site-packages/pulp/solverdir/cbc/osx/64/cbc /var/folders/py/b14h3jpn1036ckyvg60q2fp40000gn/T/14f4461cc8a044a88c0844f17fa236fc-pulp.mps -max -timeMode elapsed -branch -printingOptions all -solution /var/folders/py/b14h3jpn1036ckyvg60q2fp40000gn/T/14f4461cc8a044a88c0844f17fa236fc-pulp.sol (default strategy 1)\n",
            "At line 2 NAME          MODEL\n",
            "At line 3 ROWS\n",
            "At line 10 COLUMNS\n",
            "At line 19 RHS\n",
            "At line 25 BOUNDS\n",
            "At line 28 ENDATA\n",
            "Problem MODEL has 5 rows, 2 columns and 6 elements\n",
            "Coin0008I MODEL read with 0 errors\n",
            "Option for timeMode changed from cpu to elapsed\n",
            "Presolve 1 (-4) rows, 2 (0) columns and 2 (-4) elements\n",
            "0  Obj -0 Dual inf 65.714284 (2)\n",
            "1  Obj 192000\n",
            "Optimal - objective value 192000\n",
            "After Postsolve, objective 192000, infeasibilities - dual 0 (0), primal 0 (0)\n",
            "Optimal objective 192000 - 1 iterations time 0.002, Presolve 0.00\n",
            "Option for printingOptions changed from normal to all\n",
            "Total time (CPU seconds):       0.00   (Wallclock seconds):       0.01\n",
            "\n"
          ]
        },
        {
          "data": {
            "text/plain": [
              "'Optimal'"
            ]
          },
          "execution_count": 23,
          "metadata": {},
          "output_type": "execute_result"
        }
      ],
      "source": [
        "Lp_prob.solve()\n",
        "LpStatus[Lp_prob.status]"
      ]
    },
    {
      "cell_type": "code",
      "execution_count": 24,
      "metadata": {},
      "outputs": [
        {
          "name": "stdout",
          "output_type": "stream",
          "text": [
            "x =  6000.0 , y =  1400.0\n",
            "Optimal Solution:  192000.0  dollars\n"
          ]
        }
      ],
      "source": [
        "print(\"x = \", value(x_b), \", y = \", value(x_c))\n",
        "print(\"Optimal Solution: \", value(Lp_prob.objective), \" dollars\")"
      ]
    },
    {
      "cell_type": "markdown",
      "metadata": {},
      "source": [
        "### Problem 2"
      ]
    },
    {
      "cell_type": "code",
      "execution_count": 25,
      "metadata": {},
      "outputs": [],
      "source": [
        "# Dictionary Setup\n",
        "Passengers = ['INY','INB','INM','NBY','NBB','NBM','IBY','IBB','IBM']\n",
        "revenues = {\n",
        "    'INY' : 300,\n",
        "    'INB' : 220,\n",
        "    'INM' : 100,\n",
        "    'NBY' : 160,\n",
        "    'NBB' : 130,\n",
        "    'NBM' : 80,\n",
        "    'IBY' : 360,\n",
        "    'IBB' : 280,\n",
        "    'IBM' : 140\n",
        "}\n",
        "\n",
        "forecast = {\n",
        "    'INY' : 4,\n",
        "    'INB' : 8,\n",
        "    'INM' : 22,\n",
        "    'NBY' : 8,\n",
        "    'NBB' : 13,\n",
        "    'NBM' : 20,\n",
        "    'IBY' : 3,\n",
        "    'IBB' : 10,\n",
        "    'IBM' : 18\n",
        "}"
      ]
    },
    {
      "cell_type": "code",
      "execution_count": 26,
      "metadata": {},
      "outputs": [],
      "source": [
        "prob = LpProblem(\"Question2b\", LpMaximize)\n",
        "# variables\n",
        "num_passengers = LpVariable.dicts(\"passengers\", Passengers, lowBound=0, cat='Integer')\n",
        "\n",
        "# objective function\n",
        "prob += lpSum([revenues[i] * num_passengers[i] for i in Passengers])\n",
        "\n",
        "\n",
        "#constraints\n",
        "for i in Passengers :\n",
        "    prob += num_passengers[i] <= forecast[i]\n",
        "\n",
        "prob += num_passengers[\"INY\"] + num_passengers[\"INB\"] + num_passengers[\"INM\"] + num_passengers[\"IBY\"] + num_passengers[\"IBB\"] + num_passengers[\"IBM\"] <= 30\n",
        "prob += num_passengers[\"NBY\"] + num_passengers[\"NBB\"] + num_passengers[\"NBM\"] + num_passengers[\"IBY\"] + num_passengers[\"IBB\"] + num_passengers[\"IBM\"] <= 30\n"
      ]
    },
    {
      "cell_type": "code",
      "execution_count": 28,
      "metadata": {},
      "outputs": [
        {
          "name": "stdout",
          "output_type": "stream",
          "text": [
            "Welcome to the CBC MILP Solver \n",
            "Version: 2.10.3 \n",
            "Build Date: Dec 15 2019 \n",
            "\n",
            "command line - /Users/mercurymcindoe/Documents/Mercury/UBC/CPEN 4-2/MATH 340/Assignments/.venv/lib/python3.13/site-packages/pulp/solverdir/cbc/osx/64/cbc /var/folders/py/b14h3jpn1036ckyvg60q2fp40000gn/T/7756aa05165d4336b46d0cc908410ed7-pulp.mps -max -timeMode elapsed -branch -printingOptions all -solution /var/folders/py/b14h3jpn1036ckyvg60q2fp40000gn/T/7756aa05165d4336b46d0cc908410ed7-pulp.sol (default strategy 1)\n",
            "At line 2 NAME          MODEL\n",
            "At line 3 ROWS\n",
            "At line 16 COLUMNS\n",
            "At line 65 RHS\n",
            "At line 77 BOUNDS\n",
            "At line 87 ENDATA\n",
            "Problem MODEL has 11 rows, 9 columns and 21 elements\n",
            "Coin0008I MODEL read with 0 errors\n",
            "Option for timeMode changed from cpu to elapsed\n",
            "Continuous objective value is 9790 - 0.00 seconds\n",
            "Cgl0004I processed model has 2 rows, 9 columns (9 integer (0 of which binary)) and 12 elements\n",
            "Cutoff increment increased from 1e-05 to 9.9999\n",
            "Cbc0012I Integer solution of -9790 found by DiveCoefficient after 0 iterations and 0 nodes (0.00 seconds)\n",
            "Cbc0001I Search completed - best objective -9790, took 0 iterations and 0 nodes (0.00 seconds)\n",
            "Cbc0035I Maximum depth 0, 0 variables fixed on reduced cost\n",
            "Cuts at root node changed objective from -9790 to -9790\n",
            "Probing was tried 0 times and created 0 cuts of which 0 were active after adding rounds of cuts (0.000 seconds)\n",
            "Gomory was tried 0 times and created 0 cuts of which 0 were active after adding rounds of cuts (0.000 seconds)\n",
            "Knapsack was tried 0 times and created 0 cuts of which 0 were active after adding rounds of cuts (0.000 seconds)\n",
            "Clique was tried 0 times and created 0 cuts of which 0 were active after adding rounds of cuts (0.000 seconds)\n",
            "MixedIntegerRounding2 was tried 0 times and created 0 cuts of which 0 were active after adding rounds of cuts (0.000 seconds)\n",
            "FlowCover was tried 0 times and created 0 cuts of which 0 were active after adding rounds of cuts (0.000 seconds)\n",
            "TwoMirCuts was tried 0 times and created 0 cuts of which 0 were active after adding rounds of cuts (0.000 seconds)\n",
            "ZeroHalf was tried 0 times and created 0 cuts of which 0 were active after adding rounds of cuts (0.000 seconds)\n",
            "\n",
            "Result - Optimal solution found\n",
            "\n",
            "Objective value:                9790.00000000\n",
            "Enumerated nodes:               0\n",
            "Total iterations:               0\n",
            "Time (CPU seconds):             0.00\n",
            "Time (Wallclock seconds):       0.00\n",
            "\n",
            "Option for printingOptions changed from normal to all\n",
            "Total time (CPU seconds):       0.00   (Wallclock seconds):       0.00\n",
            "\n",
            "Status:  Optimal\n"
          ]
        }
      ],
      "source": [
        "prob.solve()\n",
        "print(\"Status: \", LpStatus[prob.status])"
      ]
    },
    {
      "cell_type": "code",
      "execution_count": 29,
      "metadata": {},
      "outputs": [
        {
          "name": "stdout",
          "output_type": "stream",
          "text": [
            "Max Revenue:  9790.0\n"
          ]
        }
      ],
      "source": [
        "print(\"Max Revenue: \", value(prob.objective))"
      ]
    }
  ],
  "metadata": {
    "kernelspec": {
      "display_name": ".venv",
      "language": "python",
      "name": "python3"
    },
    "language_info": {
      "codemirror_mode": {
        "name": "ipython",
        "version": 3
      },
      "file_extension": ".py",
      "mimetype": "text/x-python",
      "name": "python",
      "nbconvert_exporter": "python",
      "pygments_lexer": "ipython3",
      "version": "3.13.0"
    }
  },
  "nbformat": 4,
  "nbformat_minor": 2
}
