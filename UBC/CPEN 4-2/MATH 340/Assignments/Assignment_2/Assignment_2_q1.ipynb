{
  "cells": [
    {
      "cell_type": "code",
      "execution_count": 2,
      "metadata": {},
      "outputs": [],
      "source": [
        "from pulp import *"
      ]
    },
    {
      "cell_type": "markdown",
      "metadata": {},
      "source": [
        "### Problem 1"
      ]
    },
    {
      "cell_type": "code",
      "execution_count": 3,
      "metadata": {},
      "outputs": [],
      "source": [
        "Lp_prob = LpProblem('Question1b', LpMaximize)\n",
        "x_b = LpVariable('x_b') # Bands\n",
        "x_c = LpVariable('x_c') # Coils"
      ]
    },
    {
      "cell_type": "code",
      "execution_count": 4,
      "metadata": {},
      "outputs": [],
      "source": [
        "# Objective function\n",
        "Lp_prob += 25 * x_b + 30 * x_c\n",
        "\n",
        "# Constraints\n",
        "Lp_prob += x_b <= 6000 \n",
        "Lp_prob += x_c <= 4000\n",
        "Lp_prob += (x_b  * (1 / 200)) + (x_c * (1 / 140)) <= 40\n",
        "Lp_prob += x_b >= 0\n",
        "Lp_prob += x_c >= 0"
      ]
    },
    {
      "cell_type": "code",
      "execution_count": 5,
      "metadata": {},
      "outputs": [
        {
          "name": "stdout",
          "output_type": "stream",
          "text": [
            "Question1b:\n",
            "MAXIMIZE\n",
            "25*x_b + 30*x_c + 0\n",
            "SUBJECT TO\n",
            "_C1: x_b <= 6000\n",
            "\n",
            "_C2: x_c <= 4000\n",
            "\n",
            "_C3: 0.005 x_b + 0.00714285714286 x_c <= 40\n",
            "\n",
            "_C4: x_b >= 0\n",
            "\n",
            "_C5: x_c >= 0\n",
            "\n",
            "VARIABLES\n",
            "x_b free Continuous\n",
            "x_c free Continuous\n",
            "\n"
          ]
        }
      ],
      "source": [
        "print(Lp_prob)"
      ]
    },
    {
      "cell_type": "code",
      "execution_count": 6,
      "metadata": {},
      "outputs": [
        {
          "name": "stdout",
          "output_type": "stream",
          "text": [
            "Welcome to the CBC MILP Solver \n",
            "Version: 2.10.3 \n",
            "Build Date: Dec 15 2019 \n",
            "\n",
            "command line - /Users/mercurymcindoe/Documents/Mercury/UBC/CPEN 4-2/MATH 340/Assignments/.venv/lib/python3.13/site-packages/pulp/solverdir/cbc/osx/64/cbc /var/folders/py/b14h3jpn1036ckyvg60q2fp40000gn/T/da9925a0843d4266b9c7c2a9b4bc01c8-pulp.mps -max -timeMode elapsed -branch -printingOptions all -solution /var/folders/py/b14h3jpn1036ckyvg60q2fp40000gn/T/da9925a0843d4266b9c7c2a9b4bc01c8-pulp.sol (default strategy 1)\n",
            "At line 2 NAME          MODEL\n",
            "At line 3 ROWS\n",
            "At line 10 COLUMNS\n",
            "At line 19 RHS\n",
            "At line 25 BOUNDS\n",
            "At line 28 ENDATA\n",
            "Problem MODEL has 5 rows, 2 columns and 6 elements\n",
            "Coin0008I MODEL read with 0 errors\n",
            "Option for timeMode changed from cpu to elapsed\n",
            "Presolve 1 (-4) rows, 2 (0) columns and 2 (-4) elements\n",
            "0  Obj -0 Dual inf 65.714284 (2)\n",
            "1  Obj 192000\n",
            "Optimal - objective value 192000\n",
            "After Postsolve, objective 192000, infeasibilities - dual 0 (0), primal 0 (0)\n",
            "Optimal objective 192000 - 1 iterations time 0.002, Presolve 0.00\n",
            "Option for printingOptions changed from normal to all\n",
            "Total time (CPU seconds):       0.00   (Wallclock seconds):       0.01\n",
            "\n"
          ]
        },
        {
          "data": {
            "text/plain": [
              "'Optimal'"
            ]
          },
          "execution_count": 6,
          "metadata": {},
          "output_type": "execute_result"
        }
      ],
      "source": [
        "Lp_prob.solve()\n",
        "LpStatus[Lp_prob.status]"
      ]
    },
    {
      "cell_type": "code",
      "execution_count": 7,
      "metadata": {},
      "outputs": [
        {
          "name": "stdout",
          "output_type": "stream",
          "text": [
            "x =  6000.0 , y =  1400.0\n",
            "Optimal Solution:  192000.0  dollars\n"
          ]
        }
      ],
      "source": [
        "print(\"x = \", value(x_b), \", y = \", value(x_c))\n",
        "print(\"Optimal Solution: \", value(Lp_prob.objective), \" dollars\")"
      ]
    }
  ],
  "metadata": {
    "kernelspec": {
      "display_name": ".venv",
      "language": "python",
      "name": "python3"
    },
    "language_info": {
      "codemirror_mode": {
        "name": "ipython",
        "version": 3
      },
      "file_extension": ".py",
      "mimetype": "text/x-python",
      "name": "python",
      "nbconvert_exporter": "python",
      "pygments_lexer": "ipython3",
      "version": "3.13.1"
    }
  },
  "nbformat": 4,
  "nbformat_minor": 2
}
