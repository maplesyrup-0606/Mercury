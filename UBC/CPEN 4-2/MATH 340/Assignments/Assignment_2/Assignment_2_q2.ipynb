{
 "cells": [
  {
   "cell_type": "markdown",
   "metadata": {},
   "source": [
    "### Problem 2"
   ]
  },
  {
   "cell_type": "code",
   "execution_count": 14,
   "metadata": {},
   "outputs": [],
   "source": [
    "from pulp import *"
   ]
  },
  {
   "cell_type": "code",
   "execution_count": 15,
   "metadata": {},
   "outputs": [],
   "source": [
    "# Dictionary Setup\n",
    "Passengers = ['INY','INB','INM','NBY','NBB','NBM','IBY','IBB','IBM']\n",
    "revenues = {\n",
    "    'INY' : 300,\n",
    "    'INB' : 220,\n",
    "    'INM' : 100,\n",
    "    'NBY' : 160,\n",
    "    'NBB' : 130,\n",
    "    'NBM' : 80,\n",
    "    'IBY' : 360,\n",
    "    'IBB' : 280,\n",
    "    'IBM' : 140\n",
    "}\n",
    "\n",
    "forecast = {\n",
    "    'INY' : 4,\n",
    "    'INB' : 8,\n",
    "    'INM' : 22,\n",
    "    'NBY' : 8,\n",
    "    'NBB' : 13,\n",
    "    'NBM' : 20,\n",
    "    'IBY' : 3,\n",
    "    'IBB' : 10,\n",
    "    'IBM' : 18\n",
    "}"
   ]
  },
  {
   "cell_type": "code",
   "execution_count": 20,
   "metadata": {},
   "outputs": [
    {
     "name": "stdout",
     "output_type": "stream",
     "text": [
      "Question2b:\n",
      "MAXIMIZE\n",
      "280*passengers_IBB + 140*passengers_IBM + 360*passengers_IBY + 220*passengers_INB + 100*passengers_INM + 300*passengers_INY + 130*passengers_NBB + 80*passengers_NBM + 160*passengers_NBY + 0\n",
      "SUBJECT TO\n",
      "_C1: passengers_INY <= 4\n",
      "\n",
      "_C2: passengers_INB <= 8\n",
      "\n",
      "_C3: passengers_INM <= 22\n",
      "\n",
      "_C4: passengers_NBY <= 8\n",
      "\n",
      "_C5: passengers_NBB <= 13\n",
      "\n",
      "_C6: passengers_NBM <= 20\n",
      "\n",
      "_C7: passengers_IBY <= 3\n",
      "\n",
      "_C8: passengers_IBB <= 10\n",
      "\n",
      "_C9: passengers_IBM <= 18\n",
      "\n",
      "_C10: passengers_IBB + passengers_IBM + passengers_IBY + passengers_INB\n",
      " + passengers_INM + passengers_INY <= 30\n",
      "\n",
      "_C11: passengers_IBB + passengers_IBM + passengers_IBY + passengers_NBB\n",
      " + passengers_NBM + passengers_NBY <= 30\n",
      "\n",
      "VARIABLES\n",
      "0 <= passengers_IBB Integer\n",
      "0 <= passengers_IBM Integer\n",
      "0 <= passengers_IBY Integer\n",
      "0 <= passengers_INB Integer\n",
      "0 <= passengers_INM Integer\n",
      "0 <= passengers_INY Integer\n",
      "0 <= passengers_NBB Integer\n",
      "0 <= passengers_NBM Integer\n",
      "0 <= passengers_NBY Integer\n",
      "\n"
     ]
    }
   ],
   "source": [
    "prob = LpProblem(\"Question2b\", LpMaximize)\n",
    "# variables\n",
    "num_passengers = LpVariable.dicts(\"passengers\", Passengers, lowBound=0, cat='Integer')\n",
    "\n",
    "# objective function\n",
    "prob += lpSum([revenues[i] * num_passengers[i] for i in Passengers])\n",
    "\n",
    "\n",
    "#constraints\n",
    "for i in Passengers :\n",
    "    prob += num_passengers[i] <= forecast[i]\n",
    "\n",
    "prob += num_passengers[\"INY\"] + num_passengers[\"INB\"] + num_passengers[\"INM\"] + num_passengers[\"IBY\"] + num_passengers[\"IBB\"] + num_passengers[\"IBM\"] <= 30\n",
    "prob += num_passengers[\"NBY\"] + num_passengers[\"NBB\"] + num_passengers[\"NBM\"] + num_passengers[\"IBY\"] + num_passengers[\"IBB\"] + num_passengers[\"IBM\"] <= 30\n",
    "\n",
    "print(prob)"
   ]
  },
  {
   "cell_type": "code",
   "execution_count": 17,
   "metadata": {},
   "outputs": [
    {
     "name": "stdout",
     "output_type": "stream",
     "text": [
      "Welcome to the CBC MILP Solver \n",
      "Version: 2.10.3 \n",
      "Build Date: Dec 15 2019 \n",
      "\n",
      "command line - /Users/mercurymcindoe/Documents/Mercury/UBC/CPEN 4-2/MATH 340/Assignments/.venv/lib/python3.13/site-packages/pulp/solverdir/cbc/osx/64/cbc /var/folders/py/b14h3jpn1036ckyvg60q2fp40000gn/T/e59fe6404c734b139a62d5602ea4a188-pulp.mps -max -timeMode elapsed -branch -printingOptions all -solution /var/folders/py/b14h3jpn1036ckyvg60q2fp40000gn/T/e59fe6404c734b139a62d5602ea4a188-pulp.sol (default strategy 1)\n",
      "At line 2 NAME          MODEL\n",
      "At line 3 ROWS\n",
      "At line 25 COLUMNS\n",
      "At line 83 RHS\n",
      "At line 104 BOUNDS\n",
      "At line 114 ENDATA\n",
      "Problem MODEL has 20 rows, 9 columns and 30 elements\n",
      "Coin0008I MODEL read with 0 errors\n",
      "Option for timeMode changed from cpu to elapsed\n",
      "Continuous objective value is 9790 - 0.00 seconds\n",
      "Cgl0004I processed model has 2 rows, 9 columns (9 integer (0 of which binary)) and 12 elements\n",
      "Cutoff increment increased from 1e-05 to 9.9999\n",
      "Cbc0012I Integer solution of -9790 found by DiveCoefficient after 0 iterations and 0 nodes (0.01 seconds)\n",
      "Cbc0001I Search completed - best objective -9790, took 0 iterations and 0 nodes (0.01 seconds)\n",
      "Cbc0035I Maximum depth 0, 0 variables fixed on reduced cost\n",
      "Cuts at root node changed objective from -9790 to -9790\n",
      "Probing was tried 0 times and created 0 cuts of which 0 were active after adding rounds of cuts (0.000 seconds)\n",
      "Gomory was tried 0 times and created 0 cuts of which 0 were active after adding rounds of cuts (0.000 seconds)\n",
      "Knapsack was tried 0 times and created 0 cuts of which 0 were active after adding rounds of cuts (0.000 seconds)\n",
      "Clique was tried 0 times and created 0 cuts of which 0 were active after adding rounds of cuts (0.000 seconds)\n",
      "MixedIntegerRounding2 was tried 0 times and created 0 cuts of which 0 were active after adding rounds of cuts (0.000 seconds)\n",
      "FlowCover was tried 0 times and created 0 cuts of which 0 were active after adding rounds of cuts (0.000 seconds)\n",
      "TwoMirCuts was tried 0 times and created 0 cuts of which 0 were active after adding rounds of cuts (0.000 seconds)\n",
      "ZeroHalf was tried 0 times and created 0 cuts of which 0 were active after adding rounds of cuts (0.000 seconds)\n",
      "\n",
      "Result - Optimal solution found\n",
      "\n",
      "Objective value:                9790.00000000\n",
      "Enumerated nodes:               0\n",
      "Total iterations:               0\n",
      "Time (CPU seconds):             0.00\n",
      "Time (Wallclock seconds):       0.01\n",
      "\n",
      "Option for printingOptions changed from normal to all\n",
      "Total time (CPU seconds):       0.00   (Wallclock seconds):       0.02\n",
      "\n",
      "Status:  Optimal\n"
     ]
    }
   ],
   "source": [
    "prob.solve()\n",
    "print(\"Status: \", LpStatus[prob.status])"
   ]
  },
  {
   "cell_type": "code",
   "execution_count": 18,
   "metadata": {},
   "outputs": [
    {
     "name": "stdout",
     "output_type": "stream",
     "text": [
      "Ticket (INY):  4.0\n",
      "Ticket (INB):  8.0\n",
      "Ticket (INM):  5.0\n",
      "Ticket (NBY):  8.0\n",
      "Ticket (NBB):  9.0\n",
      "Ticket (NBM):  0.0\n",
      "Ticket (IBY):  3.0\n",
      "Ticket (IBB):  10.0\n",
      "Ticket (IBM):  0.0\n"
     ]
    }
   ],
   "source": [
    "for i in Passengers :\n",
    "    print(f\"Ticket ({i}): \",num_passengers[i].varValue)"
   ]
  },
  {
   "cell_type": "code",
   "execution_count": 19,
   "metadata": {},
   "outputs": [
    {
     "name": "stdout",
     "output_type": "stream",
     "text": [
      "Max Revenue:  9790.0\n"
     ]
    }
   ],
   "source": [
    "print(\"Max Revenue: \", value(prob.objective))"
   ]
  }
 ],
 "metadata": {
  "kernelspec": {
   "display_name": ".venv",
   "language": "python",
   "name": "python3"
  },
  "language_info": {
   "codemirror_mode": {
    "name": "ipython",
    "version": 3
   },
   "file_extension": ".py",
   "mimetype": "text/x-python",
   "name": "python",
   "nbconvert_exporter": "python",
   "pygments_lexer": "ipython3",
   "version": "3.13.1"
  }
 },
 "nbformat": 4,
 "nbformat_minor": 2
}
