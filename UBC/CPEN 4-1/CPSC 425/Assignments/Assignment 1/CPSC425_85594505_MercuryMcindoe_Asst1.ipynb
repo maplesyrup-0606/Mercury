{
  "cells": [
    {
      "cell_type": "code",
      "execution_count": 64,
      "metadata": {
        "id": "FoVGC2azT-to"
      },
      "outputs": [],
      "source": [
        "from PIL import Image\n",
        "import numpy as np\n",
        "import math\n",
        "from scipy import signal\n",
        "import cv2"
      ]
    },
    {
      "cell_type": "markdown",
      "metadata": {
        "id": "_8Bs3JsewpGf"
      },
      "source": [
        "# Part 2\n",
        "\n",
        "---\n",
        "\n"
      ]
    },
    {
      "cell_type": "markdown",
      "metadata": {
        "id": "5WTjRHVEwx-4"
      },
      "source": [
        "## Question 1\n",
        "\n",
        "---\n",
        "\n"
      ]
    },
    {
      "cell_type": "code",
      "execution_count": 65,
      "metadata": {
        "id": "8XLjNcBwUOcV"
      },
      "outputs": [],
      "source": [
        "def boxfilter(n) :\n",
        "  # Assert that the input is odd\n",
        "  assert n % 2\n",
        "  # Return a 2D array representing the boxfilter with values of 1/n^2\n",
        "  return np.full((n, n), 1 / (n * n))\n"
      ]
    },
    {
      "cell_type": "markdown",
      "source": [
        "### Tests\n",
        "\n",
        "---\n",
        "\n"
      ],
      "metadata": {
        "id": "YiTVk31xTsq2"
      }
    },
    {
      "cell_type": "code",
      "source": [
        "boxfilter(3)"
      ],
      "metadata": {
        "colab": {
          "base_uri": "https://localhost:8080/"
        },
        "id": "JmrI323jTrl8",
        "outputId": "4e358d16-412c-4096-ada6-c310b0b86282"
      },
      "execution_count": 66,
      "outputs": [
        {
          "output_type": "execute_result",
          "data": {
            "text/plain": [
              "array([[0.11111111, 0.11111111, 0.11111111],\n",
              "       [0.11111111, 0.11111111, 0.11111111],\n",
              "       [0.11111111, 0.11111111, 0.11111111]])"
            ]
          },
          "metadata": {},
          "execution_count": 66
        }
      ]
    },
    {
      "cell_type": "code",
      "source": [
        "boxfilter(4)"
      ],
      "metadata": {
        "colab": {
          "base_uri": "https://localhost:8080/",
          "height": 258
        },
        "id": "qmUtHNGPTy6f",
        "outputId": "16960dd5-cb78-43d2-f343-b1aa6600847d"
      },
      "execution_count": 67,
      "outputs": [
        {
          "output_type": "error",
          "ename": "AssertionError",
          "evalue": "",
          "traceback": [
            "\u001b[0;31m---------------------------------------------------------------------------\u001b[0m",
            "\u001b[0;31mAssertionError\u001b[0m                            Traceback (most recent call last)",
            "\u001b[0;32m<ipython-input-67-5870f78beb34>\u001b[0m in \u001b[0;36m<cell line: 1>\u001b[0;34m()\u001b[0m\n\u001b[0;32m----> 1\u001b[0;31m \u001b[0mboxfilter\u001b[0m\u001b[0;34m(\u001b[0m\u001b[0;36m4\u001b[0m\u001b[0;34m)\u001b[0m\u001b[0;34m\u001b[0m\u001b[0;34m\u001b[0m\u001b[0m\n\u001b[0m",
            "\u001b[0;32m<ipython-input-65-64614a897c97>\u001b[0m in \u001b[0;36mboxfilter\u001b[0;34m(n)\u001b[0m\n\u001b[1;32m      1\u001b[0m \u001b[0;32mdef\u001b[0m \u001b[0mboxfilter\u001b[0m\u001b[0;34m(\u001b[0m\u001b[0mn\u001b[0m\u001b[0;34m)\u001b[0m \u001b[0;34m:\u001b[0m\u001b[0;34m\u001b[0m\u001b[0;34m\u001b[0m\u001b[0m\n\u001b[1;32m      2\u001b[0m   \u001b[0;31m# Assert that the input is odd\u001b[0m\u001b[0;34m\u001b[0m\u001b[0;34m\u001b[0m\u001b[0m\n\u001b[0;32m----> 3\u001b[0;31m   \u001b[0;32massert\u001b[0m \u001b[0mn\u001b[0m \u001b[0;34m%\u001b[0m \u001b[0;36m2\u001b[0m\u001b[0;34m\u001b[0m\u001b[0;34m\u001b[0m\u001b[0m\n\u001b[0m\u001b[1;32m      4\u001b[0m   \u001b[0;31m# Return a 2D array representing the boxfilter with values of 1/n^2\u001b[0m\u001b[0;34m\u001b[0m\u001b[0;34m\u001b[0m\u001b[0m\n\u001b[1;32m      5\u001b[0m   \u001b[0;32mreturn\u001b[0m \u001b[0mnp\u001b[0m\u001b[0;34m.\u001b[0m\u001b[0mfull\u001b[0m\u001b[0;34m(\u001b[0m\u001b[0;34m(\u001b[0m\u001b[0mn\u001b[0m\u001b[0;34m,\u001b[0m \u001b[0mn\u001b[0m\u001b[0;34m)\u001b[0m\u001b[0;34m,\u001b[0m \u001b[0;36m1\u001b[0m \u001b[0;34m/\u001b[0m \u001b[0;34m(\u001b[0m\u001b[0mn\u001b[0m \u001b[0;34m*\u001b[0m \u001b[0mn\u001b[0m\u001b[0;34m)\u001b[0m\u001b[0;34m)\u001b[0m\u001b[0;34m\u001b[0m\u001b[0;34m\u001b[0m\u001b[0m\n",
            "\u001b[0;31mAssertionError\u001b[0m: "
          ]
        }
      ]
    },
    {
      "cell_type": "code",
      "source": [
        "boxfilter(5)"
      ],
      "metadata": {
        "id": "7DgcwaPpTzF6"
      },
      "execution_count": null,
      "outputs": []
    },
    {
      "cell_type": "markdown",
      "metadata": {
        "id": "UQ4NUTo3w1WQ"
      },
      "source": [
        "## Question 2\n",
        "\n",
        "---\n",
        "\n"
      ]
    },
    {
      "cell_type": "code",
      "execution_count": null,
      "metadata": {
        "id": "Ekb-lYRpU3ZB"
      },
      "outputs": [],
      "source": [
        "def gauss1d(sigma) :\n",
        "  # Get the next odd integer of 6 times sigma rounded up\n",
        "  len_ = math.ceil(sigma * 6)\n",
        "  if len_ % 2 == 0 :\n",
        "    len_ += 1\n",
        "\n",
        "  # Create an array of length from above that contains integers representing distance from center\n",
        "  k = len_ // 2\n",
        "  arr = np.arange(-k,k+1)\n",
        "\n",
        "  # Apply the Gaussian function to each entry of the array\n",
        "  f = lambda x : np.exp(-(x ** 2) / (2 * (sigma ** 2)))\n",
        "  arr = f(arr)\n",
        "\n",
        "  # Normalize the array so that the sum is one\n",
        "  arr /= sum(arr)\n",
        "  return arr.copy()"
      ]
    },
    {
      "cell_type": "markdown",
      "source": [
        "### Tests\n",
        "\n",
        "---\n",
        "\n"
      ],
      "metadata": {
        "id": "iuN61o2vUCBK"
      }
    },
    {
      "cell_type": "code",
      "source": [
        "print(gauss1d(0.3))"
      ],
      "metadata": {
        "id": "es0d6K4nUARb"
      },
      "execution_count": null,
      "outputs": []
    },
    {
      "cell_type": "code",
      "source": [
        "print(gauss1d(0.5))"
      ],
      "metadata": {
        "id": "531dqwWHUApU"
      },
      "execution_count": null,
      "outputs": []
    },
    {
      "cell_type": "code",
      "source": [
        "print(gauss1d(1))"
      ],
      "metadata": {
        "id": "syOnIOYSUAvl"
      },
      "execution_count": null,
      "outputs": []
    },
    {
      "cell_type": "code",
      "source": [
        "print(gauss1d(2))"
      ],
      "metadata": {
        "id": "vwmJKGZ9UA-n"
      },
      "execution_count": null,
      "outputs": []
    },
    {
      "cell_type": "markdown",
      "metadata": {
        "id": "EATgNkL7w4kX"
      },
      "source": [
        "## Question 3\n",
        "\n",
        "---\n",
        "\n"
      ]
    },
    {
      "cell_type": "code",
      "execution_count": null,
      "metadata": {
        "id": "WJEe3hYNa5AD"
      },
      "outputs": [],
      "source": [
        "def gauss2d(sigma) :\n",
        "  # Generate 1D Gaussian Array\n",
        "  gauss_1d = gauss1d(sigma)\n",
        "\n",
        "  # Make 2D arrays of the previous 1D filter and its Transpose\n",
        "  gauss_1d_ = gauss_1d[:,np.newaxis]\n",
        "  gauss_1d_transpose = gauss_1d[np.newaxis, :]\n",
        "\n",
        "  # Compute the convolution\n",
        "  convolution = signal.convolve2d(gauss_1d_, gauss_1d_transpose)\n",
        "  return convolution"
      ]
    },
    {
      "cell_type": "markdown",
      "source": [
        "### Tests\n",
        "\n",
        "---\n",
        "\n"
      ],
      "metadata": {
        "id": "qoIYtm34UQDN"
      }
    },
    {
      "cell_type": "code",
      "source": [
        "print(gauss2d(0.5))"
      ],
      "metadata": {
        "id": "jKOTGJrSUSW4"
      },
      "execution_count": null,
      "outputs": []
    },
    {
      "cell_type": "code",
      "source": [
        "print(gauss2d(1))"
      ],
      "metadata": {
        "id": "pAdIuq2wUSy9"
      },
      "execution_count": null,
      "outputs": []
    },
    {
      "cell_type": "markdown",
      "metadata": {
        "id": "LfS8t_BZw67w"
      },
      "source": [
        "## Question 4\n",
        "\n",
        "---\n",
        "\n"
      ]
    },
    {
      "cell_type": "markdown",
      "metadata": {
        "id": "vzfc_1nDxBuj"
      },
      "source": [
        "### (a)\n",
        "\n",
        "---\n",
        "\n"
      ]
    },
    {
      "cell_type": "code",
      "execution_count": null,
      "metadata": {
        "id": "7ibkpWMsdJzl"
      },
      "outputs": [],
      "source": [
        "def convolve2d_manual(image :np.ndarray, filter:np.ndarray) :\n",
        "\n",
        "  # Calculate the k value\n",
        "  f_size = len(filter)\n",
        "  k = f_size // 2\n",
        "\n",
        "  image = np.array(image, dtype=np.float32)\n",
        "  filter = np.array(filter, dtype=np.float32)\n",
        "\n",
        "  # Normalize the image, keep track of image sum\n",
        "  sum_ = np.sum(image, dtype=np.float32)\n",
        "  image /= sum_\n",
        "\n",
        "\n",
        "  # Add zero padding for the top/bottom, left/right k most elements\n",
        "  image_padded = np.pad(image, ((k,k),(k,k)), 'constant') # array with padding\n",
        "  convolution = np.zeros_like(image_padded, dtype=np.float32) # resulting convolution\n",
        "  filter = np.flipud(np.fliplr(filter)) # since it's convolution we the original filter by 180 degrees\n",
        "  flat_filter = np.array(filter).flatten() # flattening the filter for computation efficiency\n",
        "\n",
        "  # Convolution process\n",
        "  for Y in range(k, len(image_padded) - k) :\n",
        "    for X in range(k, len(image_padded[Y]) - k) :\n",
        "      neighbor = image_padded[Y - k: Y + k + 1, X - k: X + k + 1].flatten()\n",
        "      # sum of F(i,j) * I(X + i, Y + j)\n",
        "      convolution[Y, X] = np.sum(neighbor * flat_filter)\n",
        "\n",
        "  # Remove zero padding from before\n",
        "  convolution = convolution[k : -k, k : -k]\n",
        "\n",
        "  # Undo normalization\n",
        "  convolution *= sum_\n",
        "  return convolution.copy()"
      ]
    },
    {
      "cell_type": "markdown",
      "source": [
        "### Test case\n",
        "\n",
        "---\n",
        "\n"
      ],
      "metadata": {
        "id": "LRsM8c82UvgB"
      }
    },
    {
      "cell_type": "code",
      "source": [
        "convolve2d_manual([[1,0,0,0,1],[2,3,0,8,0],[2,0,0,0,3],[0,0,1,0,0]],[[1/9,1/9,1/9],[1/9,1/9,1/9],[1/9,1/9,1/9]])"
      ],
      "metadata": {
        "id": "YVgcdJKhUxYo"
      },
      "execution_count": null,
      "outputs": []
    },
    {
      "cell_type": "markdown",
      "metadata": {
        "id": "GLZIO-27xLfe"
      },
      "source": [
        "### (b)\n",
        "\n",
        "---\n",
        "\n"
      ]
    },
    {
      "cell_type": "code",
      "execution_count": null,
      "metadata": {
        "id": "RltllyfomQo8"
      },
      "outputs": [],
      "source": [
        "def gaussconvolve2d_manual(array, sigma):\n",
        "  # 2D Gaussian filter from above\n",
        "  filter = gauss2d(sigma)\n",
        "\n",
        "  # Return Convolution result (manual)\n",
        "  return convolve2d_manual(array, filter)"
      ]
    },
    {
      "cell_type": "markdown",
      "source": [
        "### Test\n",
        "\n",
        "---\n",
        "\n"
      ],
      "metadata": {
        "id": "MVpswNSxU8jb"
      }
    },
    {
      "cell_type": "code",
      "source": [
        "gaussconvolve2d_manual([[1,0,0,0,1],[2,3,0,8,0],[2,0,0,0,3],[0,0,1,0,0]], 0.6)"
      ],
      "metadata": {
        "id": "ytpUgDkRU9St"
      },
      "execution_count": null,
      "outputs": []
    },
    {
      "cell_type": "markdown",
      "metadata": {
        "id": "8xD6M1P2xRj5"
      },
      "source": [
        "### (c)\n",
        "\n",
        "---\n",
        "\n"
      ]
    },
    {
      "cell_type": "code",
      "execution_count": null,
      "metadata": {
        "id": "qwn4FG9RnkOl"
      },
      "outputs": [],
      "source": [
        "# Convert image to grey scale\n",
        "img = Image.open('./drive/MyDrive/images/dog.jpg').convert('L')\n",
        "\n",
        "# Convert image into array of grey scale values\n",
        "img_arr = np.asarray(img,dtype=np.float32)\n",
        "\n",
        "# Filter the image via convolution with sigma value of 3\n",
        "filtered_img_arr = gaussconvolve2d_manual(img_arr, 3)\n",
        "\n",
        "# Ensure array values are within 0 ~ 255 and type uint8\n",
        "filtered_img_arr_uint8 = np.clip(filtered_img_arr, 0, 255).astype(np.uint8)"
      ]
    },
    {
      "cell_type": "markdown",
      "metadata": {
        "id": "rGZoHuXVxUcx"
      },
      "source": [
        "### (d)\n",
        "\n",
        "---\n",
        "\n"
      ]
    },
    {
      "cell_type": "code",
      "execution_count": null,
      "metadata": {
        "id": "BEZTwdTAxWvJ"
      },
      "outputs": [],
      "source": [
        "# Convert array back to Image\n",
        "filtered_img = Image.fromarray(filtered_img_arr_uint8)\n",
        "\n",
        "# Image Comparison between original image and filtered image\n",
        "print(\"Original Image:\")\n",
        "display(img)\n",
        "print(\"Filtered Image:\")\n",
        "display(filtered_img)"
      ]
    },
    {
      "cell_type": "markdown",
      "metadata": {
        "id": "TuklrP0zxe7n"
      },
      "source": [
        "## Question 5\n",
        "\n",
        "---\n",
        "\n"
      ]
    },
    {
      "cell_type": "markdown",
      "metadata": {
        "id": "_1LCTWrjxhr6"
      },
      "source": [
        "### (a)\n",
        "\n",
        "---\n",
        "\n"
      ]
    },
    {
      "cell_type": "code",
      "execution_count": null,
      "metadata": {
        "id": "L3eY6Pvtxeth"
      },
      "outputs": [],
      "source": [
        "def gaussconvolve2d_scipy(array, sigma):\n",
        "  # 2D Gaussian filter from above\n",
        "  filter = gauss2d(sigma)\n",
        "\n",
        "  # Return Convolution Result (scipy)\n",
        "  return signal.convolve2d(array, filter, 'same').copy()"
      ]
    },
    {
      "cell_type": "markdown",
      "source": [
        "The reason there is both the `signal.convolve2d` and `signal.correlate2d` is because they iterate through the filter in different directions.\n",
        "\n",
        "The reason `gauss2d` produces the same result for both is that because the Gaussian Filter is a symmetric filter. Rotating the Gaussian Filter by 180 degrees would be the exact same filter, so it wouldn't matter.\n",
        "\n",
        "If the filter is not symmetric, hence when rotated by 180 degrees gives us a different filter, the the results will be different for correlation and convolution."
      ],
      "metadata": {
        "id": "krRbGE73Vmgk"
      }
    },
    {
      "cell_type": "markdown",
      "metadata": {
        "id": "OPBKMNXXx2SQ"
      },
      "source": [
        "### (b)\n",
        "\n",
        "---\n",
        "\n"
      ]
    },
    {
      "cell_type": "code",
      "execution_count": null,
      "metadata": {
        "id": "nXcZnxeZx132"
      },
      "outputs": [],
      "source": [
        "# Convert image to array\n",
        "img_arr = np.asarray(img)\n",
        "\n",
        "# Apply convolution with 2D Gaussian Filter\n",
        "filtered_img_arr = gaussconvolve2d_scipy(img_arr, 3)\n",
        "\n",
        "# Ensure array contains uint8 within 0 ~ 255\n",
        "filtered_img_arr_uint8 = np.clip(filtered_img_arr, 0, 255).astype(np.uint8)"
      ]
    },
    {
      "cell_type": "markdown",
      "metadata": {
        "id": "NXtIupjAyDgx"
      },
      "source": [
        "### (c)\n",
        "\n",
        "---\n",
        "\n"
      ]
    },
    {
      "cell_type": "code",
      "execution_count": null,
      "metadata": {
        "id": "9S2gCsm1yE5l"
      },
      "outputs": [],
      "source": [
        "# Convert array back to image\n",
        "filtered_img = Image.fromarray(filtered_img_arr_uint8)\n",
        "\n",
        "# Comparison of images\n",
        "print(\"Original Image:\")\n",
        "display(img)\n",
        "print(\"Filtered Image:\")\n",
        "display(filtered_img)"
      ]
    },
    {
      "cell_type": "markdown",
      "metadata": {
        "id": "P4Dlqx5ayL81"
      },
      "source": [
        "## Question 6\n",
        "\n",
        "---\n",
        "\n"
      ]
    },
    {
      "cell_type": "code",
      "execution_count": null,
      "metadata": {
        "id": "TFh3PI_1yJlX"
      },
      "outputs": [],
      "source": [
        "import time\n",
        "# Convert Image to grey scale\n",
        "dog = Image.open('./drive/MyDrive/images/dog.jpg').convert('L')\n",
        "\n",
        "# Convert image to array\n",
        "img_arr = np.asarray(dog, dtype=np.float32)\n",
        "\n",
        "# Record time before running manual convolution\n",
        "t1 = time.time()\n",
        "\n",
        "# Run convolution (manual)\n",
        "manual_img = gaussconvolve2d_manual(img_arr, 10)\n",
        "\n",
        "# Compute time duration for manual convolution\n",
        "duration_manual = time.time() - t1\n",
        "\n",
        "# Record time before running scipy convolution\n",
        "t2 = time.time()\n",
        "\n",
        "# Run convolution (scipy)\n",
        "scipy_img = gaussconvolve2d_scipy(img_arr, 10)\n",
        "\n",
        "# Compute time duration for scipy convolution\n",
        "duration_scipy = time.time() - t2\n",
        "\n",
        "# Time comparison\n",
        "print(f'manual time: {duration_manual}, scipy time: {duration_scipy}')\n",
        "print(f'Time difference (manual relative to scipy) : {duration_manual - duration_scipy}')"
      ]
    },
    {
      "cell_type": "markdown",
      "source": [
        "### Comment\n",
        "\n",
        "---\n",
        "\n",
        "\n"
      ],
      "metadata": {
        "id": "AqpHwhGaXQSc"
      }
    },
    {
      "cell_type": "markdown",
      "source": [
        "By comparing the time duration of both my implementation and the scipy implementation, though the difference varies we can always see that the scipy implementation is more time efficient.\n",
        "\n",
        "Considering the Github repository for scipy. https://github.com/scipy/scipy we can see that the convolve2d would use the fastest implementation possible, such as fft (fast fourier transformation) and employing separability.\n",
        "\n",
        "Hence, considering that our implementation is neither fft or using separability, scipy's implementation would be faster."
      ],
      "metadata": {
        "id": "KBOzfk3CZmnj"
      }
    },
    {
      "cell_type": "markdown",
      "metadata": {
        "id": "xt3-cfioIcqZ"
      },
      "source": [
        "## **Question 7**\n",
        "\n",
        "---\n",
        "\n"
      ]
    },
    {
      "cell_type": "markdown",
      "metadata": {
        "id": "xYOXmiMOIxCW"
      },
      "source": [
        "Convolution with a 2D Gaussian filter can be made more efficient by using the fact that Gaussian filters are separable. Instead of performing a 2D convolution directly, we can decompose it into two consecutive 1D convolutions: one applied horizontally and the other vertically. Which would reduce the time complexity reduces the complexity from $O(n^2 \\cdot m^2)$ to $O(n^2 \\cdot m)$ where $m$ is the filter dimension and $n$ is the image dimension.\n",
        "\n"
      ]
    },
    {
      "cell_type": "markdown",
      "metadata": {
        "id": "0EGeJ_fLI2r4"
      },
      "source": [
        "# Part 3\n",
        "\n",
        "---\n",
        "\n"
      ]
    },
    {
      "cell_type": "markdown",
      "source": [
        "## Helper Functions I made\n",
        "\n",
        "---\n",
        "\n"
      ],
      "metadata": {
        "id": "BnOV6vCkX0CK"
      }
    },
    {
      "cell_type": "code",
      "source": [
        "# Helper function for splitting image into RGB channel arrays\n",
        "def split_img_rgb(filename) :\n",
        "  # Open image file\n",
        "  img = Image.open(f'./drive/MyDrive/images/{filename}')\n",
        "\n",
        "  # Convert to RGB scale\n",
        "  img = img.convert(\"RGB\")\n",
        "\n",
        "  # Split RGB Channels\n",
        "  img_r, img_g, img_b = img.split()\n",
        "\n",
        "  # Convert each channel to array\n",
        "  img_r = np.asarray(img_r, dtype=np.float32)\n",
        "  img_g = np.asarray(img_g, dtype=np.float32)\n",
        "  img_b = np.asarray(img_b, dtype=np.float32)\n",
        "\n",
        "  # Return original image and each channel array\n",
        "  return img, img_r, img_g, img_b\n",
        "\n",
        "# Helper function to apply 2D Gaussian filtering to each RGB channel\n",
        "def img_gauss2d_convolution(img_r, img_g, img_b, sigma) :\n",
        "  # Apply 2D gaussian convolution for each channel\n",
        "  img_r_cv = gaussconvolve2d_scipy(img_r, sigma)\n",
        "  img_g_cv = gaussconvolve2d_scipy(img_g, sigma)\n",
        "  img_b_cv = gaussconvolve2d_scipy(img_b, sigma)\n",
        "\n",
        "  # Return each channel after filtering\n",
        "  return img_r_cv, img_g_cv, img_b_cv\n",
        "\n",
        "# Helper function to convert rgb channel arrays to one image\n",
        "def array_to_img(img_r, img_g, img_b, offset=0) :\n",
        "\n",
        "  # Assure that each channel is within 0 ~ 255 and in uint8 format\n",
        "  # Offset is used for images with zero-mean\n",
        "  img_r = np.clip(img_r + offset, 0, 255).astype(np.uint8)\n",
        "  img_g = np.clip(img_g + offset, 0, 255).astype(np.uint8)\n",
        "  img_b = np.clip(img_b + offset, 0, 255).astype(np.uint8)\n",
        "\n",
        "  # Convert each channel to image from array\n",
        "  img_r = Image.fromarray(img_r)\n",
        "  img_g = Image.fromarray(img_g)\n",
        "  img_b = Image.fromarray(img_b)\n",
        "\n",
        "  # Merge to one image\n",
        "  img = Image.merge(\"RGB\", (img_r, img_g, img_b))\n",
        "\n",
        "  return img\n",
        "\n",
        "# Helper function to create hybrid images\n",
        "def hybrid_image(img_low, img_high, sigma):\n",
        "\n",
        "  # Split low pass image into RGB channels and apply convolution\n",
        "  img, img_low_r, img_low_g, img_low_b = split_img_rgb(img_low)\n",
        "  img_low_r, img_low_g, img_low_b = img_gauss2d_convolution(img_low_r, img_low_g, img_low_b, sigma)\n",
        "\n",
        "  # Split high pass image into RGB channels and apply convolution, get high pass frequencies\n",
        "  img_, img_high_r, img_high_g, img_high_b = split_img_rgb(img_high)\n",
        "  img_high_r_cv, img_high_g_cv, img_high_b_cv = img_gauss2d_convolution(img_high_r, img_high_g, img_high_b, sigma)\n",
        "\n",
        "  img_high_r -= img_high_r_cv\n",
        "  img_high_g -= img_high_g_cv\n",
        "  img_high_b -= img_high_b_cv\n",
        "\n",
        "  # Make Hybrid RGB channels\n",
        "  img_hybrid_r = img_high_r + img_low_r\n",
        "  img_hybrid_g = img_high_g + img_low_g\n",
        "  img_hybrid_b = img_high_b + img_low_b\n",
        "\n",
        "  # Convert Hybrid RGB channels to image\n",
        "  hybrid_img = array_to_img(img_hybrid_r, img_hybrid_g, img_hybrid_b)\n",
        "  return hybrid_img"
      ],
      "metadata": {
        "id": "NcGRUnvTiXcH"
      },
      "execution_count": null,
      "outputs": []
    },
    {
      "cell_type": "markdown",
      "source": [
        "## (1)\n",
        "\n",
        "---\n",
        "\n"
      ],
      "metadata": {
        "id": "9mVsDMTVbpSc"
      }
    },
    {
      "cell_type": "code",
      "execution_count": null,
      "metadata": {
        "id": "IS7DwLhkIvZ9"
      },
      "outputs": [],
      "source": [
        "# sigma value selected\n",
        "sigma = 7\n",
        "\n",
        "# split image into each channel along with getting image\n",
        "img, img_r, img_g, img_b = split_img_rgb('0b_dog.bmp')\n",
        "\n",
        "# get low frequency channels via convolution\n",
        "img_r_cv_low_f, img_g_cv_low_f, img_b_cv_low_f = img_gauss2d_convolution(img_r, img_g, img_b, sigma)\n",
        "\n",
        "# merge each channel to get low frequency image\n",
        "low_frequency_img = array_to_img(img_r_cv_low_f, img_g_cv_low_f, img_b_cv_low_f)\n",
        "\n",
        "# display original image and low frequency image\n",
        "print(\"Original Image:\")\n",
        "display(img)\n",
        "print(\"Low Frequency Image:\")\n",
        "display(low_frequency_img)"
      ]
    },
    {
      "cell_type": "markdown",
      "source": [
        "## (2)\n",
        "\n",
        "---\n",
        "\n"
      ],
      "metadata": {
        "id": "Ow9sZH0ern04"
      }
    },
    {
      "cell_type": "code",
      "source": [
        "# split image into each channel along with getting image\n",
        "img, img_r, img_g, img_b = split_img_rgb('0a_cat.bmp')\n",
        "\n",
        "# get lower frequency rgb channels\n",
        "filtered_img_r_cv, filtered_img_g_cv, filtered_img_b_cv = img_gauss2d_convolution(img_r, img_g, img_b, sigma)\n",
        "\n",
        "# obtain higher frequency channels by subtracting lower frequency channels from original channels\n",
        "img_r_cv_high_f = img_r - filtered_img_r_cv\n",
        "img_g_cv_high_f = img_g - filtered_img_g_cv\n",
        "img_b_cv_high_f = img_b - filtered_img_b_cv\n",
        "\n",
        "# obtain high frequency image from above, add 128 to visualize\n",
        "high_frequency_img = array_to_img(img_r_cv_high_f, img_g_cv_high_f, img_b_cv_high_f, 128)\n",
        "\n",
        "# display original image and high\n",
        "print(\"Original Image:\")\n",
        "display(img)\n",
        "print(\"High Frequency Image:\")\n",
        "display(high_frequency_img)"
      ],
      "metadata": {
        "id": "fkqyXiCiqr0T"
      },
      "execution_count": null,
      "outputs": []
    },
    {
      "cell_type": "markdown",
      "source": [
        "## (3)\n",
        "\n",
        "---\n",
        "\n"
      ],
      "metadata": {
        "id": "-jY0QYV8ZIRf"
      }
    },
    {
      "cell_type": "code",
      "source": [
        "# Create Hybrid rgb channels by combining high / low frequencies\n",
        "hybrid_img_r_cv = img_r_cv_low_f + img_r_cv_high_f\n",
        "hybrid_img_g_cv = img_g_cv_low_f + img_g_cv_high_f\n",
        "hybrid_img_b_cv = img_b_cv_low_f + img_b_cv_high_f\n",
        "\n",
        "# Create Hybrid image from rgb channels\n",
        "hybrid_image = array_to_img(hybrid_img_r_cv, hybrid_img_g_cv, hybrid_img_b_cv)\n",
        "\n",
        "# Display Image\n",
        "print(\"Hybrid Image:\")\n",
        "display(hybrid_image)"
      ],
      "metadata": {
        "id": "b_xMPTwirsHw"
      },
      "execution_count": null,
      "outputs": []
    },
    {
      "cell_type": "markdown",
      "source": [
        "### Tests\n",
        "\n",
        "---\n",
        "\n"
      ],
      "metadata": {
        "id": "LFQzIG4CZAkl"
      }
    },
    {
      "cell_type": "markdown",
      "source": [
        "#### First Set"
      ],
      "metadata": {
        "id": "l8NqfbP7smHB"
      }
    },
    {
      "cell_type": "code",
      "source": [
        "image_1 = hybrid_image('1a_bicycle.bmp','1b_motorcycle.bmp',5)\n",
        "display(image_1)\n",
        "image_2 = hybrid_image('1a_bicycle.bmp','1b_motorcycle.bmp',7)\n",
        "display(image_2)\n",
        "image_3 = hybrid_image('1a_bicycle.bmp','1b_motorcycle.bmp',9)\n",
        "display(image_3)"
      ],
      "metadata": {
        "id": "e-NH_INbrDbo"
      },
      "execution_count": null,
      "outputs": []
    },
    {
      "cell_type": "markdown",
      "source": [
        "#### Second set"
      ],
      "metadata": {
        "id": "aDhBTXXUshUa"
      }
    },
    {
      "cell_type": "code",
      "source": [
        "image_1 = hybrid_image('2a_einstein.bmp','2b_marilyn.bmp',6)\n",
        "display(image_1)\n",
        "image_2 = hybrid_image('2a_einstein.bmp','2b_marilyn.bmp',8)\n",
        "display(image_2)\n",
        "image_3 = hybrid_image('2a_einstein.bmp','2b_marilyn.bmp',10)\n",
        "display(image_3)\n"
      ],
      "metadata": {
        "id": "HU6_YpjosktX"
      },
      "execution_count": null,
      "outputs": []
    },
    {
      "cell_type": "markdown",
      "source": [
        "#### Third Set"
      ],
      "metadata": {
        "id": "YkrXNxxvspxZ"
      }
    },
    {
      "cell_type": "code",
      "source": [
        "image_1 = hybrid_image('3a_fish.bmp','3b_submarine.bmp',9)\n",
        "display(image_1)\n",
        "image_2 = hybrid_image('3a_fish.bmp','3b_submarine.bmp',11)\n",
        "display(image_2)\n",
        "image_3 = hybrid_image('3a_fish.bmp','3b_submarine.bmp',13)\n",
        "display(image_3)"
      ],
      "metadata": {
        "id": "B3HmDJYusrBO"
      },
      "execution_count": null,
      "outputs": []
    },
    {
      "cell_type": "markdown",
      "source": [
        "## Part 4\n",
        "\n",
        "---\n",
        "\n"
      ],
      "metadata": {
        "id": "hCkt9EZcbx6L"
      }
    },
    {
      "cell_type": "markdown",
      "source": [
        "### (1)\n",
        "\n",
        "---\n",
        "\n"
      ],
      "metadata": {
        "id": "3kTAZe-Gb3kf"
      }
    },
    {
      "cell_type": "code",
      "source": [
        "# box_gauss image\n",
        "box_gauss = cv2.imread('drive/MyDrive/images/box_gauss.png')\n",
        "\n",
        "# parameters for Gaussiablur\n",
        "ksize = 13\n",
        "sigmaX = 100\n",
        "gauss = cv2.GaussianBlur(box_gauss, ksize=(ksize, ksize), sigmaX=sigmaX)\n",
        "\n",
        "# Image display\n",
        "display(gauss)\n",
        "\n",
        "# parameters for median blur\n",
        "ksize_median = 9\n",
        "median = cv2.medianBlur(box_gauss,ksize=ksize_median)\n",
        "\n",
        "# Image display\n",
        "display(median)\n",
        "\n",
        "# parameters for bilateral filter\n",
        "d = 13\n",
        "sigmaColor = 210\n",
        "sigmaSpace = 200\n",
        "bilateral = cv2.bilateralFilter(box_gauss, d, sigmaColor=sigmaColor, sigmaSpace=sigmaSpace)\n",
        "\n",
        "# Image display\n",
        "display(bilateral)\n",
        "\n"
      ],
      "metadata": {
        "id": "O15QtwRsb0-v"
      },
      "execution_count": null,
      "outputs": []
    },
    {
      "cell_type": "code",
      "source": [
        "# box_speckle image\n",
        "box_speckle = cv2.imread('drive/MyDrive/images/box_speckle.png')\n",
        "\n",
        "# parameters for Gaussiablur\n",
        "ksize = 13\n",
        "sigmaX = 200\n",
        "gauss = cv2.GaussianBlur(box_gauss, ksize=(ksize, ksize), sigmaX=sigmaX)\n",
        "\n",
        "# Image display\n",
        "display(gauss)\n",
        "\n",
        "# parameters for median blur\n",
        "ksize_median = 11\n",
        "median = cv2.medianBlur(box_gauss,ksize=ksize_median)\\\n",
        "\n",
        "# Image display\n",
        "display(median)\n",
        "\n",
        "# parameters for bilateral filter\n",
        "d = 13\n",
        "sigmaColor = 210\n",
        "sigmaSpace = 200\n",
        "bilateral = cv2.bilateralFilter(box_gauss, d, sigmaColor=sigmaColor, sigmaSpace=sigmaSpace)\n",
        "\n",
        "# Image display\n",
        "display(bilateral)"
      ],
      "metadata": {
        "id": "soWOd6YUqqhK"
      },
      "execution_count": null,
      "outputs": []
    },
    {
      "cell_type": "markdown",
      "source": [
        "### (2)\n",
        "\n",
        "---\n",
        "\n"
      ],
      "metadata": {
        "id": "8O24OZC5ffmS"
      }
    },
    {
      "cell_type": "code",
      "source": [
        "# box_gauss image\n",
        "box_gauss = cv2.imread('drive/MyDrive/images/box_gauss.png')\n",
        "\n",
        "# Blur filters\n",
        "gauss = cv2.GaussianBlur(box_gauss, ksize=(7, 7), sigmaX=50)\n",
        "bilateral = cv2.bilateralFilter(box_gauss, 7, sigmaColor=150, sigmaSpace=150)\n",
        "median = cv2.medianBlur(box_gauss,7)\n",
        "\n",
        "# Image display\n",
        "display(gauss)\n",
        "display(bilateral)\n",
        "display(median)\n",
        "\n",
        "# box_speckle image\n",
        "box_speckle = cv2.imread('drive/MyDrive/images/box_speckle.png')\n",
        "\n",
        "# Blur filters\n",
        "gauss2 = cv2.GaussianBlur(box_speckle, ksize=(7, 7), sigmaX=50)\n",
        "bilateral2 = cv2.bilateralFilter(box_speckle, 7, sigmaColor=150, sigmaSpace=150)\n",
        "median2 = cv2.medianBlur(box_speckle,7)\n",
        "\n",
        "# Image display\n",
        "display(gauss2)\n",
        "display(bilateral2)\n",
        "display(median2)"
      ],
      "metadata": {
        "id": "QfT7ftpfh1uj"
      },
      "execution_count": null,
      "outputs": []
    },
    {
      "cell_type": "markdown",
      "source": [
        "# **Pros and Cons of each filter**\n",
        "\n",
        "## **Gaussian Filter** :\n",
        "### **Pros** :\n",
        "Noises are smoothed out by averaging pixel values, which can lead to reduction in random fluctuations in intensity.\n",
        "The filter provides a consistent blurring effect across the image, which is ideal where uniform reduction in detail is desired.\n",
        "### **Cons** :\n",
        "Since there is no differentiation between noise and important features, it smooths out both equally. This can lead to blurring of fine details.\n",
        "\n",
        "## **Bilateral Filter** :\n",
        "### **Pros** :\n",
        "The bilateral filter effectively preserves edges while reducing noise by considering both spatial closeness and pixel intensity differences. This dual consideration allows it to smooth flat regions without blurring important edges, making it particularly useful for images where maintaining sharp boundaries is essential.\n",
        "### **Cons** :\n",
        "For cases where noise appears as abrupt changes in pixel intensity, the bilateral filter can preserve this noise due to its nature of maintaining image details and edges. This means that while it effectively retains important structures, it may also unintentionally keep certain types of high-frequency noise (as seen in the results above).\n",
        "\n",
        "## **Median Filter** :\n",
        "### **Pros** :\n",
        "Since it replaces pixel values with the median of the surrounding neighbor, it is effective in removing impulsive noises. It preserves the edges better than the Gaussian Filter, because abrupt changes in intensity are less likely to average out.\n",
        "### **Cons** :\n",
        "Can lead distorted shapes (as shown in the edges of the middle rectangle in the figures). And since the median of the neighbor is used as the pixel value finer details are less likely preserved comparing to the bilateral filter ."
      ],
      "metadata": {
        "id": "euDx5_2-igpj"
      }
    }
  ],
  "metadata": {
    "colab": {
      "provenance": []
    },
    "kernelspec": {
      "display_name": "Python 3",
      "name": "python3"
    },
    "language_info": {
      "name": "python"
    }
  },
  "nbformat": 4,
  "nbformat_minor": 0
}